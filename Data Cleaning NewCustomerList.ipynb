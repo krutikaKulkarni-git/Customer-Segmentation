{
 "cells": [
  {
   "cell_type": "code",
   "execution_count": 2,
   "id": "0f928335-3434-4c57-84df-407747a1f3df",
   "metadata": {},
   "outputs": [],
   "source": [
    "import math\n",
    "import pandas as pd\n",
    "import numpy as np\n",
    "import matplotlib.pyplot as plt\n",
    "import seaborn as sns\n",
    "%matplotlib inline\n",
    "\n",
    "from datetime import datetime, date\n",
    "plt.style.use('ggplot')"
   ]
  },
  {
   "cell_type": "code",
   "execution_count": 3,
   "id": "32b8fd42-0976-48b7-8881-90302e260b84",
   "metadata": {},
   "outputs": [],
   "source": [
    "# Loading the New Customer Data from the excel file\n",
    "\n",
    "new_cust = pd.read_excel('Raw_data.xlsx' , sheet_name='NewCustomerList')"
   ]
  },
  {
   "cell_type": "code",
   "execution_count": 4,
   "id": "42509c8a-cce7-485a-af78-4801b7bf12e3",
   "metadata": {},
   "outputs": [
    {
     "name": "stdout",
     "output_type": "stream",
     "text": [
      "<class 'pandas.core.frame.DataFrame'>\n",
      "RangeIndex: 1000 entries, 0 to 999\n",
      "Data columns (total 23 columns):\n",
      " #   Column                               Non-Null Count  Dtype  \n",
      "---  ------                               --------------  -----  \n",
      " 0   first_name                           1000 non-null   object \n",
      " 1   last_name                            971 non-null    object \n",
      " 2   gender                               1000 non-null   object \n",
      " 3   past_3_years_bike_related_purchases  1000 non-null   int64  \n",
      " 4   DOB                                  983 non-null    object \n",
      " 5   job_title                            894 non-null    object \n",
      " 6   job_industry_category                835 non-null    object \n",
      " 7   wealth_segment                       1000 non-null   object \n",
      " 8   deceased_indicator                   1000 non-null   object \n",
      " 9   owns_car                             1000 non-null   object \n",
      " 10  tenure                               1000 non-null   int64  \n",
      " 11  address                              1000 non-null   object \n",
      " 12  postcode                             1000 non-null   int64  \n",
      " 13  state                                1000 non-null   object \n",
      " 14  country                              1000 non-null   object \n",
      " 15  property_valuation                   1000 non-null   int64  \n",
      " 16  Unnamed: 16                          1000 non-null   float64\n",
      " 17  Unnamed: 17                          1000 non-null   float64\n",
      " 18  Unnamed: 18                          1000 non-null   float64\n",
      " 19  Unnamed: 19                          1000 non-null   float64\n",
      " 20  Unnamed: 20                          1000 non-null   int64  \n",
      " 21  Rank                                 1000 non-null   int64  \n",
      " 22  Value                                1000 non-null   float64\n",
      "dtypes: float64(5), int64(6), object(12)\n",
      "memory usage: 179.8+ KB\n"
     ]
    }
   ],
   "source": [
    "new_cust.info()"
   ]
  },
  {
   "cell_type": "code",
   "execution_count": 5,
   "id": "2cc25b80-5615-448c-b289-900207a01668",
   "metadata": {},
   "outputs": [
    {
     "data": {
      "text/html": [
       "<div>\n",
       "<style scoped>\n",
       "    .dataframe tbody tr th:only-of-type {\n",
       "        vertical-align: middle;\n",
       "    }\n",
       "\n",
       "    .dataframe tbody tr th {\n",
       "        vertical-align: top;\n",
       "    }\n",
       "\n",
       "    .dataframe thead th {\n",
       "        text-align: right;\n",
       "    }\n",
       "</style>\n",
       "<table border=\"1\" class=\"dataframe\">\n",
       "  <thead>\n",
       "    <tr style=\"text-align: right;\">\n",
       "      <th></th>\n",
       "      <th>first_name</th>\n",
       "      <th>last_name</th>\n",
       "      <th>gender</th>\n",
       "      <th>past_3_years_bike_related_purchases</th>\n",
       "      <th>DOB</th>\n",
       "      <th>job_title</th>\n",
       "      <th>job_industry_category</th>\n",
       "      <th>wealth_segment</th>\n",
       "      <th>deceased_indicator</th>\n",
       "      <th>owns_car</th>\n",
       "      <th>...</th>\n",
       "      <th>state</th>\n",
       "      <th>country</th>\n",
       "      <th>property_valuation</th>\n",
       "      <th>Unnamed: 16</th>\n",
       "      <th>Unnamed: 17</th>\n",
       "      <th>Unnamed: 18</th>\n",
       "      <th>Unnamed: 19</th>\n",
       "      <th>Unnamed: 20</th>\n",
       "      <th>Rank</th>\n",
       "      <th>Value</th>\n",
       "    </tr>\n",
       "  </thead>\n",
       "  <tbody>\n",
       "    <tr>\n",
       "      <th>0</th>\n",
       "      <td>Chickie</td>\n",
       "      <td>Brister</td>\n",
       "      <td>Male</td>\n",
       "      <td>86</td>\n",
       "      <td>1957-07-12</td>\n",
       "      <td>General Manager</td>\n",
       "      <td>Manufacturing</td>\n",
       "      <td>Mass Customer</td>\n",
       "      <td>N</td>\n",
       "      <td>Yes</td>\n",
       "      <td>...</td>\n",
       "      <td>QLD</td>\n",
       "      <td>Australia</td>\n",
       "      <td>6</td>\n",
       "      <td>0.81</td>\n",
       "      <td>1.0125</td>\n",
       "      <td>1.265625</td>\n",
       "      <td>1.075781</td>\n",
       "      <td>1</td>\n",
       "      <td>1</td>\n",
       "      <td>1.718750</td>\n",
       "    </tr>\n",
       "    <tr>\n",
       "      <th>1</th>\n",
       "      <td>Morly</td>\n",
       "      <td>Genery</td>\n",
       "      <td>Male</td>\n",
       "      <td>69</td>\n",
       "      <td>1970-03-22</td>\n",
       "      <td>Structural Engineer</td>\n",
       "      <td>Property</td>\n",
       "      <td>Mass Customer</td>\n",
       "      <td>N</td>\n",
       "      <td>No</td>\n",
       "      <td>...</td>\n",
       "      <td>NSW</td>\n",
       "      <td>Australia</td>\n",
       "      <td>11</td>\n",
       "      <td>0.75</td>\n",
       "      <td>0.7500</td>\n",
       "      <td>0.937500</td>\n",
       "      <td>0.796875</td>\n",
       "      <td>1</td>\n",
       "      <td>1</td>\n",
       "      <td>1.718750</td>\n",
       "    </tr>\n",
       "    <tr>\n",
       "      <th>2</th>\n",
       "      <td>Ardelis</td>\n",
       "      <td>Forrester</td>\n",
       "      <td>Female</td>\n",
       "      <td>10</td>\n",
       "      <td>1974-08-28 00:00:00</td>\n",
       "      <td>Senior Cost Accountant</td>\n",
       "      <td>Financial Services</td>\n",
       "      <td>Affluent Customer</td>\n",
       "      <td>N</td>\n",
       "      <td>No</td>\n",
       "      <td>...</td>\n",
       "      <td>VIC</td>\n",
       "      <td>Australia</td>\n",
       "      <td>5</td>\n",
       "      <td>0.71</td>\n",
       "      <td>0.7100</td>\n",
       "      <td>0.710000</td>\n",
       "      <td>0.710000</td>\n",
       "      <td>1</td>\n",
       "      <td>1</td>\n",
       "      <td>1.718750</td>\n",
       "    </tr>\n",
       "    <tr>\n",
       "      <th>3</th>\n",
       "      <td>Lucine</td>\n",
       "      <td>Stutt</td>\n",
       "      <td>Female</td>\n",
       "      <td>64</td>\n",
       "      <td>1979-01-28</td>\n",
       "      <td>Account Representative III</td>\n",
       "      <td>Manufacturing</td>\n",
       "      <td>Affluent Customer</td>\n",
       "      <td>N</td>\n",
       "      <td>Yes</td>\n",
       "      <td>...</td>\n",
       "      <td>QLD</td>\n",
       "      <td>Australia</td>\n",
       "      <td>1</td>\n",
       "      <td>0.50</td>\n",
       "      <td>0.6250</td>\n",
       "      <td>0.625000</td>\n",
       "      <td>0.625000</td>\n",
       "      <td>4</td>\n",
       "      <td>4</td>\n",
       "      <td>1.703125</td>\n",
       "    </tr>\n",
       "    <tr>\n",
       "      <th>4</th>\n",
       "      <td>Melinda</td>\n",
       "      <td>Hadlee</td>\n",
       "      <td>Female</td>\n",
       "      <td>34</td>\n",
       "      <td>1965-09-21</td>\n",
       "      <td>Financial Analyst</td>\n",
       "      <td>Financial Services</td>\n",
       "      <td>Affluent Customer</td>\n",
       "      <td>N</td>\n",
       "      <td>No</td>\n",
       "      <td>...</td>\n",
       "      <td>NSW</td>\n",
       "      <td>Australia</td>\n",
       "      <td>9</td>\n",
       "      <td>0.99</td>\n",
       "      <td>0.9900</td>\n",
       "      <td>1.237500</td>\n",
       "      <td>1.237500</td>\n",
       "      <td>4</td>\n",
       "      <td>4</td>\n",
       "      <td>1.703125</td>\n",
       "    </tr>\n",
       "  </tbody>\n",
       "</table>\n",
       "<p>5 rows × 23 columns</p>\n",
       "</div>"
      ],
      "text/plain": [
       "  first_name  last_name  gender  past_3_years_bike_related_purchases  \\\n",
       "0    Chickie    Brister    Male                                   86   \n",
       "1      Morly     Genery    Male                                   69   \n",
       "2    Ardelis  Forrester  Female                                   10   \n",
       "3     Lucine      Stutt  Female                                   64   \n",
       "4    Melinda     Hadlee  Female                                   34   \n",
       "\n",
       "                   DOB                   job_title job_industry_category  \\\n",
       "0           1957-07-12             General Manager         Manufacturing   \n",
       "1           1970-03-22         Structural Engineer              Property   \n",
       "2  1974-08-28 00:00:00      Senior Cost Accountant    Financial Services   \n",
       "3           1979-01-28  Account Representative III         Manufacturing   \n",
       "4           1965-09-21           Financial Analyst    Financial Services   \n",
       "\n",
       "      wealth_segment deceased_indicator owns_car  ...  state    country  \\\n",
       "0      Mass Customer                  N      Yes  ...    QLD  Australia   \n",
       "1      Mass Customer                  N       No  ...    NSW  Australia   \n",
       "2  Affluent Customer                  N       No  ...    VIC  Australia   \n",
       "3  Affluent Customer                  N      Yes  ...    QLD  Australia   \n",
       "4  Affluent Customer                  N       No  ...    NSW  Australia   \n",
       "\n",
       "   property_valuation Unnamed: 16 Unnamed: 17  Unnamed: 18  Unnamed: 19  \\\n",
       "0                   6        0.81      1.0125     1.265625     1.075781   \n",
       "1                  11        0.75      0.7500     0.937500     0.796875   \n",
       "2                   5        0.71      0.7100     0.710000     0.710000   \n",
       "3                   1        0.50      0.6250     0.625000     0.625000   \n",
       "4                   9        0.99      0.9900     1.237500     1.237500   \n",
       "\n",
       "   Unnamed: 20  Rank     Value  \n",
       "0            1     1  1.718750  \n",
       "1            1     1  1.718750  \n",
       "2            1     1  1.718750  \n",
       "3            4     4  1.703125  \n",
       "4            4     4  1.703125  \n",
       "\n",
       "[5 rows x 23 columns]"
      ]
     },
     "execution_count": 5,
     "metadata": {},
     "output_type": "execute_result"
    }
   ],
   "source": [
    "# Checking first 5 records from New Customer Data\n",
    "\n",
    "new_cust.head(5)"
   ]
  },
  {
   "cell_type": "markdown",
   "id": "86c1a90a-ca92-45e6-a74f-6c408a0febe0",
   "metadata": {},
   "source": [
    "The data-types of the feature columns are fine. However 'Unnamed: 16','Unnamed: 17','Unnamed: 18','Unnamed: 19','Unnamed: 20' are irrelevent column. Hence it should be dropped."
   ]
  },
  {
   "cell_type": "markdown",
   "id": "901fbf9c-f55e-4fd3-b991-83736f4e9cc8",
   "metadata": {},
   "source": [
    "### Total Records"
   ]
  },
  {
   "cell_type": "code",
   "execution_count": 6,
   "id": "123370f5-a1d8-4e67-92db-1645d241bfad",
   "metadata": {},
   "outputs": [
    {
     "name": "stdout",
     "output_type": "stream",
     "text": [
      "Total records (rows) in the dataset : 1000\n",
      "Total columns (features) in the dataset : 23\n"
     ]
    }
   ],
   "source": [
    "print(\"Total records (rows) in the dataset : {}\".format(new_cust.shape[0]))\n",
    "print(\"Total columns (features) in the dataset : {}\".format(new_cust.shape[1]))"
   ]
  },
  {
   "cell_type": "markdown",
   "id": "2ebe9559-ffd9-45a6-913b-28b85260d9ca",
   "metadata": {},
   "source": [
    "### Numeric Columns and Non-Numeric Columns"
   ]
  },
  {
   "cell_type": "code",
   "execution_count": 7,
   "id": "39d8affb-bd60-4db2-9442-d63f8ec9f25b",
   "metadata": {},
   "outputs": [
    {
     "name": "stdout",
     "output_type": "stream",
     "text": [
      "The numeric columns are :\n",
      "['past_3_years_bike_related_purchases' 'tenure' 'postcode'\n",
      " 'property_valuation' 'Unnamed: 16' 'Unnamed: 17' 'Unnamed: 18'\n",
      " 'Unnamed: 19' 'Unnamed: 20' 'Rank' 'Value']\n",
      "The non-numeric columns are :\n",
      "['first_name' 'last_name' 'gender' 'DOB' 'job_title'\n",
      " 'job_industry_category' 'wealth_segment' 'deceased_indicator' 'owns_car'\n",
      " 'address' 'state' 'country']\n"
     ]
    }
   ],
   "source": [
    "# select numeric columns\n",
    "df_numeric = new_cust.select_dtypes(include=[np.number])\n",
    "numeric_cols = df_numeric.columns.values\n",
    "print(\"The numeric columns are :\")\n",
    "print(numeric_cols)\n",
    "\n",
    "\n",
    "# select non-numeric columns\n",
    "df_non_numeric = new_cust.select_dtypes(exclude=[np.number])\n",
    "non_numeric_cols = df_non_numeric.columns.values\n",
    "print(\"The non-numeric columns are :\")\n",
    "print(non_numeric_cols)"
   ]
  },
  {
   "cell_type": "markdown",
   "id": "9f9bcc69-d1fd-4fe0-8ec1-b90c73eabad7",
   "metadata": {},
   "source": [
    "### Dropping Irrelevent Columns"
   ]
  },
  {
   "cell_type": "markdown",
   "id": "03d4efe4-15cc-43f1-a111-3fac1c8dc46c",
   "metadata": {},
   "source": [
    " 'Unnamed: 16','Unnamed: 17','Unnamed: 18','Unnamed: 19','Unnamed: 20' are irrelevent column. Hence it should be dropped."
   ]
  },
  {
   "cell_type": "code",
   "execution_count": 8,
   "id": "be12d0f4-cdd6-4eac-95d8-8178abeb9e1d",
   "metadata": {},
   "outputs": [],
   "source": [
    "new_cust.drop(labels=['Unnamed: 16','Unnamed: 17','Unnamed: 18','Unnamed: 19','Unnamed: 20'], axis=1 , inplace=True)"
   ]
  },
  {
   "cell_type": "markdown",
   "id": "2a67bdf5-e32f-4610-a4f7-fb4c853cc15f",
   "metadata": {},
   "source": [
    "### Missing Values Check"
   ]
  },
  {
   "cell_type": "markdown",
   "id": "16b3a652-fa5c-4e0b-8a9f-0a1245e49420",
   "metadata": {},
   "source": [
    "Checking for the presence of any missing values in the dataset. If missing values are present for a particular feature then depending upon the situation the feature may be either dropped (cases when a major amount of data is missing) or an appropiate value will be imputed in the feature column with missing values."
   ]
  },
  {
   "cell_type": "code",
   "execution_count": 9,
   "id": "661f9022-a56a-495e-8616-4eb4e94b2d67",
   "metadata": {},
   "outputs": [
    {
     "data": {
      "text/plain": [
       "first_name                               0\n",
       "last_name                               29\n",
       "gender                                   0\n",
       "past_3_years_bike_related_purchases      0\n",
       "DOB                                     17\n",
       "job_title                              106\n",
       "job_industry_category                  165\n",
       "wealth_segment                           0\n",
       "deceased_indicator                       0\n",
       "owns_car                                 0\n",
       "tenure                                   0\n",
       "address                                  0\n",
       "postcode                                 0\n",
       "state                                    0\n",
       "country                                  0\n",
       "property_valuation                       0\n",
       "Rank                                     0\n",
       "Value                                    0\n",
       "dtype: int64"
      ]
     },
     "execution_count": 9,
     "metadata": {},
     "output_type": "execute_result"
    }
   ],
   "source": [
    "# Total number of missing values\n",
    "new_cust.isnull().sum()"
   ]
  },
  {
   "cell_type": "markdown",
   "id": "6a7eef6d-e12b-4334-bb48-30ed1f02395b",
   "metadata": {},
   "source": [
    "### 1. Last Name"
   ]
  },
  {
   "cell_type": "markdown",
   "id": "e910f266-9bfa-4057-bc39-d7843627f6a9",
   "metadata": {},
   "source": [
    "Lets check where Last name is absent, is first name absent aswell."
   ]
  },
  {
   "cell_type": "code",
   "execution_count": 10,
   "id": "f08ebaa5-1675-43aa-833d-ee957968a40a",
   "metadata": {},
   "outputs": [
    {
     "data": {
      "text/plain": [
       "first_name    0\n",
       "dtype: int64"
      ]
     },
     "execution_count": 10,
     "metadata": {},
     "output_type": "execute_result"
    }
   ],
   "source": [
    "new_cust[new_cust['last_name'].isnull()][['first_name']].isnull().sum()"
   ]
  },
  {
   "cell_type": "markdown",
   "id": "02409520-c7c0-4abd-9917-f2f246ee0108",
   "metadata": {},
   "source": [
    "Since All customers have a First name, all the customers are identifiable. Hence it is okay for to not have a last name. Filling null last names with \"None\""
   ]
  },
  {
   "cell_type": "code",
   "execution_count": 11,
   "id": "400c108d-cd79-46a5-8a23-b71154720959",
   "metadata": {},
   "outputs": [],
   "source": [
    "new_cust['last_name'].fillna('None',axis=0, inplace=True)"
   ]
  },
  {
   "cell_type": "code",
   "execution_count": 12,
   "id": "520958e2-e66a-49f7-88f8-1e13a27e64c3",
   "metadata": {},
   "outputs": [
    {
     "data": {
      "text/plain": [
       "0"
      ]
     },
     "execution_count": 12,
     "metadata": {},
     "output_type": "execute_result"
    }
   ],
   "source": [
    " new_cust['last_name'].isnull().sum()"
   ]
  },
  {
   "cell_type": "markdown",
   "id": "a755cb91-7790-4215-8340-39e2a8225fc9",
   "metadata": {},
   "source": [
    "Currently there are no missing values for Last Name column"
   ]
  },
  {
   "cell_type": "markdown",
   "id": "bfc248d1-e3bc-4472-93d0-62ba934fe376",
   "metadata": {},
   "source": [
    "### 2. Date of Birth"
   ]
  },
  {
   "cell_type": "code",
   "execution_count": 13,
   "id": "22352ed1-8d29-48f0-8328-81c4aa1e3bb1",
   "metadata": {},
   "outputs": [
    {
     "data": {
      "text/plain": [
       "2"
      ]
     },
     "execution_count": 13,
     "metadata": {},
     "output_type": "execute_result"
    }
   ],
   "source": [
    "round(new_cust['DOB'].isnull().mean()*100)"
   ]
  },
  {
   "cell_type": "markdown",
   "id": "1df8057c-5f67-4c6a-b749-2d599edf3943",
   "metadata": {},
   "source": [
    "Less than 5 % of data has null date of birth. we can remove the records where date of birth is null"
   ]
  },
  {
   "cell_type": "code",
   "execution_count": 14,
   "id": "b9f8e8b3-9dbf-42a0-9513-99de2ca090a4",
   "metadata": {},
   "outputs": [],
   "source": [
    "# Fetching the index of the records / rows where the DOB is null.\n",
    "\n",
    "dob_index_drop = new_cust[new_cust['DOB'].isnull()].index\n"
   ]
  },
  {
   "cell_type": "code",
   "execution_count": 15,
   "id": "46b4ba24-9fe7-4981-9c4b-580151ad6031",
   "metadata": {},
   "outputs": [],
   "source": [
    "new_cust.drop(index=dob_index_drop, inplace=True, axis=0)"
   ]
  },
  {
   "cell_type": "code",
   "execution_count": 16,
   "id": "af45783c-84c0-44d6-aac9-dbd95e25a13b",
   "metadata": {},
   "outputs": [
    {
     "data": {
      "text/plain": [
       "0"
      ]
     },
     "execution_count": 16,
     "metadata": {},
     "output_type": "execute_result"
    }
   ],
   "source": [
    "new_cust['DOB'].isnull().sum()"
   ]
  },
  {
   "cell_type": "markdown",
   "id": "26968c09-dcdb-4b47-9103-1679f08734d9",
   "metadata": {},
   "source": [
    "Currently there are no missing values for DOB."
   ]
  },
  {
   "cell_type": "markdown",
   "id": "dc9b0ddf-6b64-4429-8a81-b7e83416d286",
   "metadata": {},
   "source": [
    "#### Creating Age Column for checking further descripency in data"
   ]
  },
  {
   "cell_type": "code",
   "execution_count": 17,
   "id": "e4f9d0e8-477c-4944-bee4-77b62a1d2e3b",
   "metadata": {},
   "outputs": [
    {
     "data": {
      "text/plain": [
       "0      66\n",
       "1      54\n",
       "2      49\n",
       "3      45\n",
       "4      58\n",
       "       ..\n",
       "995    64\n",
       "996    22\n",
       "997    69\n",
       "998    71\n",
       "999    68\n",
       "Name: Age, Length: 983, dtype: int64"
      ]
     },
     "execution_count": 17,
     "metadata": {},
     "output_type": "execute_result"
    }
   ],
   "source": [
    "# Converting the \"DOB\" column to a datetime format \n",
    "new_cust['DOB'] = pd.to_datetime(new_cust['DOB'])\n",
    "\n",
    "# To Calculate the current date or a reference date for calculating the age\n",
    "reference_date = pd.to_datetime('2024-04-23')\n",
    "\n",
    "# To Calculate the age based on the exact date of birth and the reference date\n",
    "new_cust['Age'] = (reference_date - new_cust['DOB']).dt.days // 365\n",
    "\n",
    "\n",
    "new_cust['Age']"
   ]
  },
  {
   "cell_type": "code",
   "execution_count": 18,
   "id": "c96254d3-7923-4daa-a4dc-0b6831757fde",
   "metadata": {},
   "outputs": [
    {
     "data": {
      "text/plain": [
       "count    983.000000\n",
       "mean      52.550356\n",
       "std       17.061864\n",
       "min       22.000000\n",
       "25%       40.500000\n",
       "50%       52.000000\n",
       "75%       66.000000\n",
       "max       85.000000\n",
       "Name: Age, dtype: float64"
      ]
     },
     "execution_count": 18,
     "metadata": {},
     "output_type": "execute_result"
    }
   ],
   "source": [
    "new_cust['Age'].describe()"
   ]
  },
  {
   "cell_type": "code",
   "execution_count": 19,
   "id": "90399375-b041-4279-9f25-c3e4706ee224",
   "metadata": {},
   "outputs": [
    {
     "name": "stderr",
     "output_type": "stream",
     "text": [
      "C:\\Users\\hp\\anaconda3\\Lib\\site-packages\\seaborn\\_oldcore.py:1119: FutureWarning: use_inf_as_na option is deprecated and will be removed in a future version. Convert inf values to NaN before operating instead.\n",
      "  with pd.option_context('mode.use_inf_as_na', True):\n"
     ]
    },
    {
     "data": {
      "text/plain": [
       "<seaborn.axisgrid.FacetGrid at 0x2051c4d7b90>"
      ]
     },
     "execution_count": 19,
     "metadata": {},
     "output_type": "execute_result"
    },
    {
     "data": {
      "text/plain": [
       "<Figure size 1500x800 with 0 Axes>"
      ]
     },
     "metadata": {},
     "output_type": "display_data"
    },
    {
     "data": {
      "image/png": "[encoded data removed]",
      "text/plain": [
       "<Figure size 500x500 with 1 Axes>"
      ]
     },
     "metadata": {},
     "output_type": "display_data"
    }
   ],
   "source": [
    "# Viz to find out the Age Distribution\n",
    "plt.figure(figsize=(15,8))\n",
    "sns.displot(new_cust['Age'], kde=False, bins=50)"
   ]
  },
  {
   "cell_type": "markdown",
   "id": "9544e96b-0dbe-4e24-9dab-46cf8a92dc54",
   "metadata": {},
   "source": [
    "Looking at the age field there is no descripency in the data"
   ]
  },
  {
   "cell_type": "markdown",
   "id": "d82e35d7-48f1-4336-8cd1-49f7b0593023",
   "metadata": {},
   "source": [
    "#### Creating Age Group Column"
   ]
  },
  {
   "cell_type": "code",
   "execution_count": 20,
   "id": "0781e84d-49ce-427a-816e-16ebd3f9ce98",
   "metadata": {},
   "outputs": [],
   "source": [
    "new_cust['Age Group'] = new_cust['Age'].apply(lambda x : (math.floor(x/10)+1)*10)"
   ]
  },
  {
   "cell_type": "code",
   "execution_count": 21,
   "id": "69c18d1e-c159-468b-b03b-6672b0ef260f",
   "metadata": {},
   "outputs": [
    {
     "name": "stderr",
     "output_type": "stream",
     "text": [
      "C:\\Users\\hp\\anaconda3\\Lib\\site-packages\\seaborn\\_oldcore.py:1119: FutureWarning: use_inf_as_na option is deprecated and will be removed in a future version. Convert inf values to NaN before operating instead.\n",
      "  with pd.option_context('mode.use_inf_as_na', True):\n"
     ]
    },
    {
     "data": {
      "text/plain": [
       "<seaborn.axisgrid.FacetGrid at 0x2051c4ba6d0>"
      ]
     },
     "execution_count": 21,
     "metadata": {},
     "output_type": "execute_result"
    },
    {
     "data": {
      "text/plain": [
       "<Figure size 1000x800 with 0 Axes>"
      ]
     },
     "metadata": {},
     "output_type": "display_data"
    },
    {
     "data": {
      "image/png": "[encoded data removed]",
      "text/plain": [
       "<Figure size 500x500 with 1 Axes>"
      ]
     },
     "metadata": {},
     "output_type": "display_data"
    }
   ],
   "source": [
    "# Viz to find out the Age Group Distribution\n",
    "plt.figure(figsize=(10,8))\n",
    "sns.displot(new_cust['Age Group'], kde=False, bins=50)\n"
   ]
  },
  {
   "cell_type": "markdown",
   "id": "3a70cf36-b6c6-41be-ad98-1ef11c175ae0",
   "metadata": {},
   "source": [
    "### 3. Job Title"
   ]
  },
  {
   "cell_type": "code",
   "execution_count": 22,
   "id": "c9add829-023d-491d-b564-50e1f34cf9f2",
   "metadata": {},
   "outputs": [
    {
     "data": {
      "text/plain": [
       "11"
      ]
     },
     "execution_count": 22,
     "metadata": {},
     "output_type": "execute_result"
    }
   ],
   "source": [
    "round(new_cust['job_title'].isnull().mean()*100)"
   ]
  },
  {
   "cell_type": "markdown",
   "id": "863cf2ff-91b6-40e3-b18f-f68f7ca63344",
   "metadata": {},
   "source": [
    "Since percentage of missing values for Job Title is 11%. We will replace null values with Missing"
   ]
  },
  {
   "cell_type": "code",
   "execution_count": 23,
   "id": "1bfd18a0-1f9b-4436-8bfa-71f0cf893c66",
   "metadata": {},
   "outputs": [],
   "source": [
    "new_cust['job_title'].fillna('Missing', inplace=True, axis=0)"
   ]
  },
  {
   "cell_type": "code",
   "execution_count": 24,
   "id": "f4aa2be0-b313-4dde-a4d3-d38070bc71de",
   "metadata": {},
   "outputs": [
    {
     "data": {
      "text/plain": [
       "0"
      ]
     },
     "execution_count": 24,
     "metadata": {},
     "output_type": "execute_result"
    }
   ],
   "source": [
    "new_cust['job_title'].isnull().sum()"
   ]
  },
  {
   "cell_type": "markdown",
   "id": "d6e50e2f-6ef4-4ba2-953e-146472d92357",
   "metadata": {},
   "source": [
    "### 4. Job Industry category"
   ]
  },
  {
   "cell_type": "code",
   "execution_count": 25,
   "id": "c7a313a9-3829-436c-9967-f4f4187c8f48",
   "metadata": {},
   "outputs": [
    {
     "data": {
      "text/plain": [
       "17"
      ]
     },
     "execution_count": 25,
     "metadata": {},
     "output_type": "execute_result"
    }
   ],
   "source": [
    "round(new_cust['job_industry_category'].isnull().mean()*100)"
   ]
  },
  {
   "cell_type": "markdown",
   "id": "e0bda0e0-8664-4d6c-967e-e26c651345bb",
   "metadata": {},
   "source": [
    "Since Percentage of missing Job Industry Category is 17%. We will replace null values with Missing."
   ]
  },
  {
   "cell_type": "code",
   "execution_count": 27,
   "id": "d5352e68-db04-4925-807a-e13ffd03a716",
   "metadata": {},
   "outputs": [],
   "source": [
    "new_cust['job_industry_category'].fillna('Missing', inplace=True, axis=0)\n"
   ]
  },
  {
   "cell_type": "code",
   "execution_count": 28,
   "id": "9e20d696-e54c-45d7-9c96-2dc9548a6027",
   "metadata": {},
   "outputs": [
    {
     "data": {
      "text/plain": [
       "0"
      ]
     },
     "execution_count": 28,
     "metadata": {},
     "output_type": "execute_result"
    }
   ],
   "source": [
    "new_cust['job_industry_category'].isnull().sum()"
   ]
  },
  {
   "cell_type": "markdown",
   "id": "16f437e8-afb5-4b09-96b6-df3bc2b52d5f",
   "metadata": {},
   "source": [
    "Currently there are no Missing values for Job Industry Category column."
   ]
  },
  {
   "cell_type": "code",
   "execution_count": 29,
   "id": "a1338993-bdb8-49db-b688-e9e631ff9720",
   "metadata": {},
   "outputs": [
    {
     "data": {
      "text/plain": [
       "first_name                             0\n",
       "last_name                              0\n",
       "gender                                 0\n",
       "past_3_years_bike_related_purchases    0\n",
       "DOB                                    0\n",
       "job_title                              0\n",
       "job_industry_category                  0\n",
       "wealth_segment                         0\n",
       "deceased_indicator                     0\n",
       "owns_car                               0\n",
       "tenure                                 0\n",
       "address                                0\n",
       "postcode                               0\n",
       "state                                  0\n",
       "country                                0\n",
       "property_valuation                     0\n",
       "Rank                                   0\n",
       "Value                                  0\n",
       "Age                                    0\n",
       "Age Group                              0\n",
       "dtype: int64"
      ]
     },
     "execution_count": 29,
     "metadata": {},
     "output_type": "execute_result"
    }
   ],
   "source": [
    "new_cust.isnull().sum()\n"
   ]
  },
  {
   "cell_type": "markdown",
   "id": "bb79e0fd-23fd-4c9c-ad95-fb4cb7f2df32",
   "metadata": {},
   "source": [
    "##### Finally there are no Missing Values in the dataset.\n"
   ]
  },
  {
   "cell_type": "code",
   "execution_count": 30,
   "id": "edf8b1f6-a9cf-423c-9781-1e90a1fc3dd1",
   "metadata": {},
   "outputs": [
    {
     "name": "stdout",
     "output_type": "stream",
     "text": [
      "Total records after removing Missing Values: 983\n"
     ]
    }
   ],
   "source": [
    "print(\"Total records after removing Missing Values: {}\".format(new_cust.shape[0]))"
   ]
  },
  {
   "cell_type": "markdown",
   "id": "a047a87c-5df2-4388-ac7d-3b7a28fe1e69",
   "metadata": {},
   "source": [
    "## Inconsistency Check in Data"
   ]
  },
  {
   "cell_type": "markdown",
   "id": "42631be5-1494-4c2b-b84a-63fe3e943118",
   "metadata": {},
   "source": [
    "We will check whether there is inconsistent data / typo error data is present in the categorical columns.\n",
    "The columns to be checked are 'gender', 'wealth_segment' ,'deceased_indicator', 'owns_car'"
   ]
  },
  {
   "cell_type": "markdown",
   "id": "c15cf027-66da-44cc-b298-34669aed89d3",
   "metadata": {},
   "source": [
    "### 1.Gender"
   ]
  },
  {
   "cell_type": "code",
   "execution_count": 31,
   "id": "aff071bd-2f8d-4425-9531-1ea45e9d9cb9",
   "metadata": {},
   "outputs": [
    {
     "data": {
      "text/plain": [
       "gender\n",
       "Female    513\n",
       "Male      470\n",
       "Name: count, dtype: int64"
      ]
     },
     "execution_count": 31,
     "metadata": {},
     "output_type": "execute_result"
    }
   ],
   "source": [
    "new_cust['gender'].value_counts()"
   ]
  },
  {
   "cell_type": "markdown",
   "id": "ec9cbc8a-cdc8-422f-b4d8-1e2c5ad6806b",
   "metadata": {},
   "source": [
    "There is no inconsistent data in gender column."
   ]
  },
  {
   "cell_type": "markdown",
   "id": "49a30c78-6f73-4e49-bb6f-545fb9142931",
   "metadata": {},
   "source": [
    "### 2. Wealth Segment"
   ]
  },
  {
   "cell_type": "code",
   "execution_count": 32,
   "id": "34ebdc4b-7751-4459-bc74-779008027223",
   "metadata": {},
   "outputs": [
    {
     "data": {
      "text/plain": [
       "wealth_segment\n",
       "Mass Customer        499\n",
       "High Net Worth       249\n",
       "Affluent Customer    235\n",
       "Name: count, dtype: int64"
      ]
     },
     "execution_count": 32,
     "metadata": {},
     "output_type": "execute_result"
    }
   ],
   "source": [
    "new_cust['wealth_segment'].value_counts()"
   ]
  },
  {
   "cell_type": "markdown",
   "id": "df90d243-4eeb-4b70-a98d-cf28b3bbab27",
   "metadata": {},
   "source": [
    "There is no inconsistent data in wealth_segment column."
   ]
  },
  {
   "cell_type": "markdown",
   "id": "a35b3d4c-c360-4eaf-a845-40cbb1966aea",
   "metadata": {},
   "source": [
    " ### 3.Deceased Indicator"
   ]
  },
  {
   "cell_type": "code",
   "execution_count": 33,
   "id": "50ed0a9b-d90c-409c-a6c8-5497ac09312f",
   "metadata": {},
   "outputs": [
    {
     "data": {
      "text/plain": [
       "deceased_indicator\n",
       "N    983\n",
       "Name: count, dtype: int64"
      ]
     },
     "execution_count": 33,
     "metadata": {},
     "output_type": "execute_result"
    }
   ],
   "source": [
    "new_cust['deceased_indicator'].value_counts()"
   ]
  },
  {
   "cell_type": "markdown",
   "id": "b8894bf1-61cd-4bc2-b094-a233101a6e3c",
   "metadata": {},
   "source": [
    "There is no inconsistent data in deceased_indicator column"
   ]
  },
  {
   "cell_type": "markdown",
   "id": "be9cd347-edfb-4a68-a6da-bd4628307254",
   "metadata": {},
   "source": [
    "### 4. Owns a Car"
   ]
  },
  {
   "cell_type": "code",
   "execution_count": 34,
   "id": "48dd7d20-614f-4c44-a9e8-3e65b6ba5182",
   "metadata": {},
   "outputs": [
    {
     "data": {
      "text/plain": [
       "owns_car\n",
       "No     497\n",
       "Yes    486\n",
       "Name: count, dtype: int64"
      ]
     },
     "execution_count": 34,
     "metadata": {},
     "output_type": "execute_result"
    }
   ],
   "source": [
    "new_cust['owns_car'].value_counts()"
   ]
  },
  {
   "cell_type": "markdown",
   "id": "2652fa91-8c38-4bed-a512-0d2fce978f04",
   "metadata": {},
   "source": [
    "There is no inconsistent data in owns_car column."
   ]
  },
  {
   "cell_type": "markdown",
   "id": "9f25da7d-cfa7-42ac-8de3-5e6726b2467b",
   "metadata": {},
   "source": [
    "### 5. State"
   ]
  },
  {
   "cell_type": "code",
   "execution_count": 35,
   "id": "1c6f463b-f49a-4991-a541-4e8f690457a4",
   "metadata": {},
   "outputs": [
    {
     "data": {
      "text/plain": [
       "state\n",
       "NSW    499\n",
       "VIC    258\n",
       "QLD    226\n",
       "Name: count, dtype: int64"
      ]
     },
     "execution_count": 35,
     "metadata": {},
     "output_type": "execute_result"
    }
   ],
   "source": [
    "new_cust['state'].value_counts()"
   ]
  },
  {
   "cell_type": "markdown",
   "id": "356a8e86-7079-4f1f-ad4b-2ab080b0c80a",
   "metadata": {},
   "source": [
    "There is no inconsistent data in state column."
   ]
  },
  {
   "cell_type": "markdown",
   "id": "ce985e30-f93d-49ee-9608-60688170f913",
   "metadata": {},
   "source": [
    "### 6. Country"
   ]
  },
  {
   "cell_type": "code",
   "execution_count": 36,
   "id": "52d25e87-5bd1-40f8-93f8-887a3fff978b",
   "metadata": {},
   "outputs": [
    {
     "data": {
      "text/plain": [
       "country\n",
       "Australia    983\n",
       "Name: count, dtype: int64"
      ]
     },
     "execution_count": 36,
     "metadata": {},
     "output_type": "execute_result"
    }
   ],
   "source": [
    "new_cust['country'].value_counts()\n"
   ]
  },
  {
   "cell_type": "markdown",
   "id": "222d6945-6c46-4334-9b7c-c46a364f5b8e",
   "metadata": {},
   "source": [
    "There is no inconsistent data in country column."
   ]
  },
  {
   "cell_type": "markdown",
   "id": "50fcf9d2-3b0c-40e2-8a3f-ae3250a1eef9",
   "metadata": {},
   "source": [
    "### 7. Postcode"
   ]
  },
  {
   "cell_type": "code",
   "execution_count": 37,
   "id": "99455131-516f-4776-8cff-d7cc21c770a5",
   "metadata": {},
   "outputs": [
    {
     "data": {
      "text/html": [
       "<div>\n",
       "<style scoped>\n",
       "    .dataframe tbody tr th:only-of-type {\n",
       "        vertical-align: middle;\n",
       "    }\n",
       "\n",
       "    .dataframe tbody tr th {\n",
       "        vertical-align: top;\n",
       "    }\n",
       "\n",
       "    .dataframe thead th {\n",
       "        text-align: right;\n",
       "    }\n",
       "</style>\n",
       "<table border=\"1\" class=\"dataframe\">\n",
       "  <thead>\n",
       "    <tr style=\"text-align: right;\">\n",
       "      <th></th>\n",
       "      <th>postcode</th>\n",
       "      <th>state</th>\n",
       "    </tr>\n",
       "  </thead>\n",
       "  <tbody>\n",
       "    <tr>\n",
       "      <th>164</th>\n",
       "      <td>2073</td>\n",
       "      <td>NSW</td>\n",
       "    </tr>\n",
       "    <tr>\n",
       "      <th>202</th>\n",
       "      <td>2300</td>\n",
       "      <td>NSW</td>\n",
       "    </tr>\n",
       "    <tr>\n",
       "      <th>616</th>\n",
       "      <td>2049</td>\n",
       "      <td>NSW</td>\n",
       "    </tr>\n",
       "    <tr>\n",
       "      <th>204</th>\n",
       "      <td>2429</td>\n",
       "      <td>NSW</td>\n",
       "    </tr>\n",
       "    <tr>\n",
       "      <th>615</th>\n",
       "      <td>2070</td>\n",
       "      <td>NSW</td>\n",
       "    </tr>\n",
       "    <tr>\n",
       "      <th>...</th>\n",
       "      <td>...</td>\n",
       "      <td>...</td>\n",
       "    </tr>\n",
       "    <tr>\n",
       "      <th>234</th>\n",
       "      <td>3429</td>\n",
       "      <td>VIC</td>\n",
       "    </tr>\n",
       "    <tr>\n",
       "      <th>589</th>\n",
       "      <td>3037</td>\n",
       "      <td>VIC</td>\n",
       "    </tr>\n",
       "    <tr>\n",
       "      <th>604</th>\n",
       "      <td>3129</td>\n",
       "      <td>VIC</td>\n",
       "    </tr>\n",
       "    <tr>\n",
       "      <th>245</th>\n",
       "      <td>3134</td>\n",
       "      <td>VIC</td>\n",
       "    </tr>\n",
       "    <tr>\n",
       "      <th>341</th>\n",
       "      <td>3163</td>\n",
       "      <td>VIC</td>\n",
       "    </tr>\n",
       "  </tbody>\n",
       "</table>\n",
       "<p>515 rows × 2 columns</p>\n",
       "</div>"
      ],
      "text/plain": [
       "     postcode state\n",
       "164      2073   NSW\n",
       "202      2300   NSW\n",
       "616      2049   NSW\n",
       "204      2429   NSW\n",
       "615      2070   NSW\n",
       "..        ...   ...\n",
       "234      3429   VIC\n",
       "589      3037   VIC\n",
       "604      3129   VIC\n",
       "245      3134   VIC\n",
       "341      3163   VIC\n",
       "\n",
       "[515 rows x 2 columns]"
      ]
     },
     "execution_count": 37,
     "metadata": {},
     "output_type": "execute_result"
    }
   ],
   "source": [
    "new_cust[['postcode', 'state']].drop_duplicates().sort_values('state')"
   ]
  },
  {
   "cell_type": "markdown",
   "id": "5e6aec43-0b46-4899-b634-5c523b127ba5",
   "metadata": {},
   "source": [
    "There is no inconsistent data in postcode column."
   ]
  },
  {
   "cell_type": "markdown",
   "id": "a3b6ece7-243c-4dc6-a573-fd0cd82eb10f",
   "metadata": {},
   "source": [
    "### 8. Address"
   ]
  },
  {
   "cell_type": "code",
   "execution_count": 38,
   "id": "da6bb4eb-aeab-4ed5-8200-0108b647d0bb",
   "metadata": {},
   "outputs": [
    {
     "data": {
      "text/html": [
       "<div>\n",
       "<style scoped>\n",
       "    .dataframe tbody tr th:only-of-type {\n",
       "        vertical-align: middle;\n",
       "    }\n",
       "\n",
       "    .dataframe tbody tr th {\n",
       "        vertical-align: top;\n",
       "    }\n",
       "\n",
       "    .dataframe thead th {\n",
       "        text-align: right;\n",
       "    }\n",
       "</style>\n",
       "<table border=\"1\" class=\"dataframe\">\n",
       "  <thead>\n",
       "    <tr style=\"text-align: right;\">\n",
       "      <th></th>\n",
       "      <th>address</th>\n",
       "      <th>postcode</th>\n",
       "      <th>state</th>\n",
       "      <th>country</th>\n",
       "    </tr>\n",
       "  </thead>\n",
       "  <tbody>\n",
       "    <tr>\n",
       "      <th>721</th>\n",
       "      <td>0 Bay Drive</td>\n",
       "      <td>2750</td>\n",
       "      <td>NSW</td>\n",
       "      <td>Australia</td>\n",
       "    </tr>\n",
       "    <tr>\n",
       "      <th>138</th>\n",
       "      <td>0 Dexter Parkway</td>\n",
       "      <td>2380</td>\n",
       "      <td>NSW</td>\n",
       "      <td>Australia</td>\n",
       "    </tr>\n",
       "    <tr>\n",
       "      <th>624</th>\n",
       "      <td>0 Emmet Trail</td>\n",
       "      <td>4128</td>\n",
       "      <td>QLD</td>\n",
       "      <td>Australia</td>\n",
       "    </tr>\n",
       "    <tr>\n",
       "      <th>300</th>\n",
       "      <td>0 Esker Avenue</td>\n",
       "      <td>4019</td>\n",
       "      <td>QLD</td>\n",
       "      <td>Australia</td>\n",
       "    </tr>\n",
       "    <tr>\n",
       "      <th>685</th>\n",
       "      <td>0 Express Lane</td>\n",
       "      <td>2142</td>\n",
       "      <td>NSW</td>\n",
       "      <td>Australia</td>\n",
       "    </tr>\n",
       "    <tr>\n",
       "      <th>...</th>\n",
       "      <td>...</td>\n",
       "      <td>...</td>\n",
       "      <td>...</td>\n",
       "      <td>...</td>\n",
       "    </tr>\n",
       "    <tr>\n",
       "      <th>308</th>\n",
       "      <td>99 Westend Court</td>\n",
       "      <td>2287</td>\n",
       "      <td>NSW</td>\n",
       "      <td>Australia</td>\n",
       "    </tr>\n",
       "    <tr>\n",
       "      <th>336</th>\n",
       "      <td>990 Hoffman Avenue</td>\n",
       "      <td>3029</td>\n",
       "      <td>VIC</td>\n",
       "      <td>Australia</td>\n",
       "    </tr>\n",
       "    <tr>\n",
       "      <th>796</th>\n",
       "      <td>99376 Namekagon Street</td>\n",
       "      <td>3101</td>\n",
       "      <td>VIC</td>\n",
       "      <td>Australia</td>\n",
       "    </tr>\n",
       "    <tr>\n",
       "      <th>583</th>\n",
       "      <td>9940 Manley Drive</td>\n",
       "      <td>2574</td>\n",
       "      <td>NSW</td>\n",
       "      <td>Australia</td>\n",
       "    </tr>\n",
       "    <tr>\n",
       "      <th>50</th>\n",
       "      <td>998 Gale Park</td>\n",
       "      <td>3174</td>\n",
       "      <td>VIC</td>\n",
       "      <td>Australia</td>\n",
       "    </tr>\n",
       "  </tbody>\n",
       "</table>\n",
       "<p>983 rows × 4 columns</p>\n",
       "</div>"
      ],
      "text/plain": [
       "                    address  postcode state    country\n",
       "721             0 Bay Drive      2750   NSW  Australia\n",
       "138        0 Dexter Parkway      2380   NSW  Australia\n",
       "624           0 Emmet Trail      4128   QLD  Australia\n",
       "300          0 Esker Avenue      4019   QLD  Australia\n",
       "685          0 Express Lane      2142   NSW  Australia\n",
       "..                      ...       ...   ...        ...\n",
       "308        99 Westend Court      2287   NSW  Australia\n",
       "336      990 Hoffman Avenue      3029   VIC  Australia\n",
       "796  99376 Namekagon Street      3101   VIC  Australia\n",
       "583       9940 Manley Drive      2574   NSW  Australia\n",
       "50            998 Gale Park      3174   VIC  Australia\n",
       "\n",
       "[983 rows x 4 columns]"
      ]
     },
     "execution_count": 38,
     "metadata": {},
     "output_type": "execute_result"
    }
   ],
   "source": [
    "new_cust[['address', 'postcode','state','country']].sort_values('address')"
   ]
  },
  {
   "cell_type": "markdown",
   "id": "e22fde5f-43ea-4f40-a506-ec8a7505b6f1",
   "metadata": {},
   "source": [
    "There is no inconsistent data in address column."
   ]
  },
  {
   "cell_type": "markdown",
   "id": "b6f97ff2-78d2-40ca-af1a-73d115ac25b1",
   "metadata": {},
   "source": [
    "### 9.Tenure"
   ]
  },
  {
   "cell_type": "code",
   "execution_count": 39,
   "id": "0c42138d-5fd3-496a-80a3-50257192ea2d",
   "metadata": {},
   "outputs": [
    {
     "data": {
      "text/plain": [
       "count    983.000000\n",
       "mean      11.459817\n",
       "std        5.006123\n",
       "min        1.000000\n",
       "25%        8.000000\n",
       "50%       11.000000\n",
       "75%       15.000000\n",
       "max       22.000000\n",
       "Name: tenure, dtype: float64"
      ]
     },
     "execution_count": 39,
     "metadata": {},
     "output_type": "execute_result"
    }
   ],
   "source": [
    "new_cust['tenure'].describe()"
   ]
  },
  {
   "cell_type": "code",
   "execution_count": 41,
   "id": "427f9efc-cfa9-4b87-9f79-fa29daff604d",
   "metadata": {},
   "outputs": [
    {
     "name": "stderr",
     "output_type": "stream",
     "text": [
      "C:\\Users\\hp\\anaconda3\\Lib\\site-packages\\seaborn\\_oldcore.py:1119: FutureWarning: use_inf_as_na option is deprecated and will be removed in a future version. Convert inf values to NaN before operating instead.\n",
      "  with pd.option_context('mode.use_inf_as_na', True):\n"
     ]
    },
    {
     "data": {
      "text/plain": [
       "<seaborn.axisgrid.FacetGrid at 0x2051e417490>"
      ]
     },
     "execution_count": 41,
     "metadata": {},
     "output_type": "execute_result"
    },
    {
     "data": {
      "text/plain": [
       "<Figure size 1500x800 with 0 Axes>"
      ]
     },
     "metadata": {},
     "output_type": "display_data"
    },
    {
     "data": {
      "image/png": "[encoded data removed]",
      "text/plain": [
       "<Figure size 500x500 with 1 Axes>"
      ]
     },
     "metadata": {},
     "output_type": "display_data"
    }
   ],
   "source": [
    "# Distributon of tenure\n",
    "\n",
    "plt.figure(figsize=(15,8))\n",
    "sns.displot(new_cust['tenure'])"
   ]
  },
  {
   "cell_type": "markdown",
   "id": "5e78edb0-413a-44b4-96ea-99d97963b969",
   "metadata": {},
   "source": [
    "There is no inconsistent data in tenure column. The distribution of tenure looks fine."
   ]
  },
  {
   "cell_type": "markdown",
   "id": "4f26993f-73cd-43aa-a137-d7f9e9be96cd",
   "metadata": {},
   "source": [
    "## Duplication Checks"
   ]
  },
  {
   "cell_type": "code",
   "execution_count": 42,
   "id": "060d2890-b1c3-497a-93d3-fe03b32c35c1",
   "metadata": {},
   "outputs": [
    {
     "name": "stdout",
     "output_type": "stream",
     "text": [
      "Number of records after removing customer_id (pk), duplicates : 983\n",
      "Number of records in original dataset : 983\n"
     ]
    }
   ],
   "source": [
    "new_cust_dedupped = new_cust.drop_duplicates()\n",
    "\n",
    "print(\"Number of records after removing customer_id (pk), duplicates : {}\".format(new_cust_dedupped.shape[0]))\n",
    "print(\"Number of records in original dataset : {}\".format(new_cust.shape[0]))"
   ]
  },
  {
   "cell_type": "markdown",
   "id": "f551030e-4320-401b-84e0-b3c0e8165013",
   "metadata": {},
   "source": [
    "since both the numbers are same. There are no duplicate records in the dataset."
   ]
  },
  {
   "cell_type": "markdown",
   "id": "6f5dda68-d885-49cb-b83b-5d53ba574dde",
   "metadata": {},
   "source": [
    "## Exporting the Cleaned New Customers Data Set to csv"
   ]
  },
  {
   "cell_type": "code",
   "execution_count": 43,
   "id": "5b866c09-a409-4571-a207-9595ca1ca75b",
   "metadata": {},
   "outputs": [],
   "source": [
    "new_cust.to_csv('NewCustomerList_Cleaned.csv', index=False)"
   ]
  },
  {
   "cell_type": "code",
   "execution_count": null,
   "id": "66746f25-9c00-41e9-8515-2b2552f987e8",
   "metadata": {},
   "outputs": [],
   "source": []
  }
 ],
 "metadata": {
  "kernelspec": {
   "display_name": "Python 3 (ipykernel)",
   "language": "python",
   "name": "python3"
  },
  "language_info": {
   "codemirror_mode": {
    "name": "ipython",
    "version": 3
   },
   "file_extension": ".py",
   "mimetype": "text/x-python",
   "name": "python",
   "nbconvert_exporter": "python",
   "pygments_lexer": "ipython3",
   "version": "3.11.7"
  }
 },
 "nbformat": 4,
 "nbformat_minor": 5
}
