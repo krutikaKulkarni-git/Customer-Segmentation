{
 "cells": [
  {
   "cell_type": "code",
   "execution_count": 12,
   "id": "6a13e857-96b5-47e4-a07b-a67926b3f41a",
   "metadata": {},
   "outputs": [],
   "source": [
    "import pandas as pd\n",
    "import numpy as np\n",
    "import matplotlib.pyplot as plt\n",
    "import seaborn as sns\n",
    "import statistics\n",
    "%matplotlib inline\n",
    "\n",
    "from datetime import datetime, date\n",
    "plt.style.use('ggplot')"
   ]
  },
  {
   "cell_type": "code",
   "execution_count": 2,
   "id": "34a02012-1ddf-419e-b62b-361ad1cf7d0f",
   "metadata": {},
   "outputs": [],
   "source": [
    "# Loading the Transactions Data from the excel file\n",
    "\n",
    "trans = pd.read_excel('Raw_data.xlsx' , sheet_name='Transactions')"
   ]
  },
  {
   "cell_type": "code",
   "execution_count": 3,
   "id": "a01c28eb-8344-4ac5-b4db-0259a5906aa4",
   "metadata": {},
   "outputs": [
    {
     "data": {
      "text/html": [
       "<div>\n",
       "<style scoped>\n",
       "    .dataframe tbody tr th:only-of-type {\n",
       "        vertical-align: middle;\n",
       "    }\n",
       "\n",
       "    .dataframe tbody tr th {\n",
       "        vertical-align: top;\n",
       "    }\n",
       "\n",
       "    .dataframe thead th {\n",
       "        text-align: right;\n",
       "    }\n",
       "</style>\n",
       "<table border=\"1\" class=\"dataframe\">\n",
       "  <thead>\n",
       "    <tr style=\"text-align: right;\">\n",
       "      <th></th>\n",
       "      <th>transaction_id</th>\n",
       "      <th>product_id</th>\n",
       "      <th>customer_id</th>\n",
       "      <th>transaction_date</th>\n",
       "      <th>online_order</th>\n",
       "      <th>order_status</th>\n",
       "      <th>brand</th>\n",
       "      <th>product_line</th>\n",
       "      <th>product_class</th>\n",
       "      <th>product_size</th>\n",
       "      <th>list_price</th>\n",
       "      <th>standard_cost</th>\n",
       "      <th>product_first_sold_date</th>\n",
       "    </tr>\n",
       "  </thead>\n",
       "  <tbody>\n",
       "    <tr>\n",
       "      <th>0</th>\n",
       "      <td>1</td>\n",
       "      <td>2</td>\n",
       "      <td>2950</td>\n",
       "      <td>2017-02-25</td>\n",
       "      <td>0.0</td>\n",
       "      <td>Approved</td>\n",
       "      <td>Solex</td>\n",
       "      <td>Standard</td>\n",
       "      <td>medium</td>\n",
       "      <td>medium</td>\n",
       "      <td>71.49</td>\n",
       "      <td>53.62</td>\n",
       "      <td>41245.0</td>\n",
       "    </tr>\n",
       "    <tr>\n",
       "      <th>1</th>\n",
       "      <td>2</td>\n",
       "      <td>3</td>\n",
       "      <td>3120</td>\n",
       "      <td>2017-05-21</td>\n",
       "      <td>1.0</td>\n",
       "      <td>Approved</td>\n",
       "      <td>Trek Bicycles</td>\n",
       "      <td>Standard</td>\n",
       "      <td>medium</td>\n",
       "      <td>large</td>\n",
       "      <td>2091.47</td>\n",
       "      <td>388.92</td>\n",
       "      <td>41701.0</td>\n",
       "    </tr>\n",
       "    <tr>\n",
       "      <th>2</th>\n",
       "      <td>3</td>\n",
       "      <td>37</td>\n",
       "      <td>402</td>\n",
       "      <td>2017-10-16</td>\n",
       "      <td>0.0</td>\n",
       "      <td>Approved</td>\n",
       "      <td>OHM Cycles</td>\n",
       "      <td>Standard</td>\n",
       "      <td>low</td>\n",
       "      <td>medium</td>\n",
       "      <td>1793.43</td>\n",
       "      <td>248.82</td>\n",
       "      <td>36361.0</td>\n",
       "    </tr>\n",
       "    <tr>\n",
       "      <th>3</th>\n",
       "      <td>4</td>\n",
       "      <td>88</td>\n",
       "      <td>3135</td>\n",
       "      <td>2017-08-31</td>\n",
       "      <td>0.0</td>\n",
       "      <td>Approved</td>\n",
       "      <td>Norco Bicycles</td>\n",
       "      <td>Standard</td>\n",
       "      <td>medium</td>\n",
       "      <td>medium</td>\n",
       "      <td>1198.46</td>\n",
       "      <td>381.10</td>\n",
       "      <td>36145.0</td>\n",
       "    </tr>\n",
       "    <tr>\n",
       "      <th>4</th>\n",
       "      <td>5</td>\n",
       "      <td>78</td>\n",
       "      <td>787</td>\n",
       "      <td>2017-10-01</td>\n",
       "      <td>1.0</td>\n",
       "      <td>Approved</td>\n",
       "      <td>Giant Bicycles</td>\n",
       "      <td>Standard</td>\n",
       "      <td>medium</td>\n",
       "      <td>large</td>\n",
       "      <td>1765.30</td>\n",
       "      <td>709.48</td>\n",
       "      <td>42226.0</td>\n",
       "    </tr>\n",
       "  </tbody>\n",
       "</table>\n",
       "</div>"
      ],
      "text/plain": [
       "   transaction_id  product_id  customer_id transaction_date  online_order  \\\n",
       "0               1           2         2950       2017-02-25           0.0   \n",
       "1               2           3         3120       2017-05-21           1.0   \n",
       "2               3          37          402       2017-10-16           0.0   \n",
       "3               4          88         3135       2017-08-31           0.0   \n",
       "4               5          78          787       2017-10-01           1.0   \n",
       "\n",
       "  order_status           brand product_line product_class product_size  \\\n",
       "0     Approved           Solex     Standard        medium       medium   \n",
       "1     Approved   Trek Bicycles     Standard        medium        large   \n",
       "2     Approved      OHM Cycles     Standard           low       medium   \n",
       "3     Approved  Norco Bicycles     Standard        medium       medium   \n",
       "4     Approved  Giant Bicycles     Standard        medium        large   \n",
       "\n",
       "   list_price  standard_cost  product_first_sold_date  \n",
       "0       71.49          53.62                  41245.0  \n",
       "1     2091.47         388.92                  41701.0  \n",
       "2     1793.43         248.82                  36361.0  \n",
       "3     1198.46         381.10                  36145.0  \n",
       "4     1765.30         709.48                  42226.0  "
      ]
     },
     "execution_count": 3,
     "metadata": {},
     "output_type": "execute_result"
    }
   ],
   "source": [
    "# Checking first 5 records from Transactions Data\n",
    "\n",
    "trans.head(5)\n"
   ]
  },
  {
   "cell_type": "code",
   "execution_count": 4,
   "id": "7fbfd770-4668-4081-811e-cb1b314c4b8b",
   "metadata": {},
   "outputs": [
    {
     "name": "stdout",
     "output_type": "stream",
     "text": [
      "<class 'pandas.core.frame.DataFrame'>\n",
      "RangeIndex: 20000 entries, 0 to 19999\n",
      "Data columns (total 13 columns):\n",
      " #   Column                   Non-Null Count  Dtype         \n",
      "---  ------                   --------------  -----         \n",
      " 0   transaction_id           20000 non-null  int64         \n",
      " 1   product_id               20000 non-null  int64         \n",
      " 2   customer_id              20000 non-null  int64         \n",
      " 3   transaction_date         20000 non-null  datetime64[ns]\n",
      " 4   online_order             19640 non-null  float64       \n",
      " 5   order_status             20000 non-null  object        \n",
      " 6   brand                    19803 non-null  object        \n",
      " 7   product_line             19803 non-null  object        \n",
      " 8   product_class            19803 non-null  object        \n",
      " 9   product_size             19803 non-null  object        \n",
      " 10  list_price               20000 non-null  float64       \n",
      " 11  standard_cost            19803 non-null  float64       \n",
      " 12  product_first_sold_date  19803 non-null  float64       \n",
      "dtypes: datetime64[ns](1), float64(4), int64(3), object(5)\n",
      "memory usage: 2.0+ MB\n"
     ]
    }
   ],
   "source": [
    "# Information of columns and data-types of Transactions Data.\n",
    "\n",
    "trans.info()"
   ]
  },
  {
   "cell_type": "markdown",
   "id": "7367afc2-06d5-453e-b6e4-cae0d256a873",
   "metadata": {},
   "source": [
    "The datatype of product_first_sold_date column is not in datetime format. The data type of this column must be changed from int64 to datetime format"
   ]
  },
  {
   "cell_type": "markdown",
   "id": "c6d4bf49-7fa8-4daa-b56e-bf1c9d48aea4",
   "metadata": {},
   "source": [
    "## Total Records"
   ]
  },
  {
   "cell_type": "code",
   "execution_count": 5,
   "id": "729cf5a7-a8a4-4722-9940-e2716905fcb9",
   "metadata": {},
   "outputs": [
    {
     "name": "stdout",
     "output_type": "stream",
     "text": [
      "Total records (rows) in the dataset : 20000\n",
      "Total columns (features) in the dataset : 13\n"
     ]
    }
   ],
   "source": [
    "print(\"Total records (rows) in the dataset : {}\".format(trans.shape[0]))\n",
    "print(\"Total columns (features) in the dataset : {}\".format(trans.shape[1]))\n"
   ]
  },
  {
   "cell_type": "markdown",
   "id": "34bf47ad-1054-4e95-92da-866a7e25c076",
   "metadata": {},
   "source": [
    "## Numeric Columns and Non-Numeric Columns"
   ]
  },
  {
   "cell_type": "code",
   "execution_count": 6,
   "id": "c9343732-ffdc-4419-aaf7-c0cbc0ea5d37",
   "metadata": {},
   "outputs": [
    {
     "name": "stdout",
     "output_type": "stream",
     "text": [
      "The numeric columns are :\n",
      "['transaction_id' 'product_id' 'customer_id' 'online_order' 'list_price'\n",
      " 'standard_cost' 'product_first_sold_date']\n",
      "The non-numeric columns are :\n",
      "['transaction_date' 'order_status' 'brand' 'product_line' 'product_class'\n",
      " 'product_size']\n"
     ]
    }
   ],
   "source": [
    "# select numeric columns\n",
    "df_numeric = trans.select_dtypes(include=[np.number])\n",
    "numeric_cols = df_numeric.columns.values\n",
    "print(\"The numeric columns are :\")\n",
    "print(numeric_cols)\n",
    "\n",
    "\n",
    "# select non-numeric columns\n",
    "df_non_numeric = trans.select_dtypes(exclude=[np.number])\n",
    "non_numeric_cols = df_non_numeric.columns.values\n",
    "print(\"The non-numeric columns are :\")\n",
    "print(non_numeric_cols)\n"
   ]
  },
  {
   "cell_type": "markdown",
   "id": "0f1d20a9-83cd-4dc7-8626-f9bfa3930327",
   "metadata": {},
   "source": [
    "## Missing Values Check"
   ]
  },
  {
   "cell_type": "markdown",
   "id": "179e6c5d-6409-45a7-bec5-6a1e6a06c698",
   "metadata": {},
   "source": [
    "Checking for the presence of any missing values in the dataset. If missing values are present for a particular feature then depending upon the situation the feature may be either dropped (cases when a major amount of data is missing) or an appropiate value will be imputed in the feature column with missing values."
   ]
  },
  {
   "cell_type": "code",
   "execution_count": 7,
   "id": "cfb85a58-3ae7-49f2-9b8b-f6321a86940d",
   "metadata": {},
   "outputs": [
    {
     "data": {
      "text/plain": [
       "transaction_id               0\n",
       "product_id                   0\n",
       "customer_id                  0\n",
       "transaction_date             0\n",
       "online_order               360\n",
       "order_status                 0\n",
       "brand                      197\n",
       "product_line               197\n",
       "product_class              197\n",
       "product_size               197\n",
       "list_price                   0\n",
       "standard_cost              197\n",
       "product_first_sold_date    197\n",
       "dtype: int64"
      ]
     },
     "execution_count": 7,
     "metadata": {},
     "output_type": "execute_result"
    }
   ],
   "source": [
    "# Total number of missing values\n",
    "\n",
    "trans.isnull().sum()\n"
   ]
  },
  {
   "cell_type": "markdown",
   "id": "7ce5fe3d-9965-4c02-b6d2-6e4b9d4bbcd0",
   "metadata": {},
   "source": [
    "Here it is observed that columns like online_order, brand, product_line, product_class , product_size, standard_cost, product_first_sold_date have missing values."
   ]
  },
  {
   "cell_type": "markdown",
   "id": "c5f58eae-5351-4e63-adbc-8231fcf236ab",
   "metadata": {},
   "source": [
    "### 1 Online Order"
   ]
  },
  {
   "cell_type": "code",
   "execution_count": 10,
   "id": "ede73ee7-c8d5-4e6e-bd8b-b1336616b07e",
   "metadata": {},
   "outputs": [
    {
     "data": {
      "text/plain": [
       "1.7999999999999998"
      ]
     },
     "execution_count": 10,
     "metadata": {},
     "output_type": "execute_result"
    }
   ],
   "source": [
    "trans['online_order'].isnull().mean()*100"
   ]
  },
  {
   "cell_type": "markdown",
   "id": "6c9e630c-7e81-47c2-b143-fcfc4cf96fc7",
   "metadata": {},
   "source": [
    "Since 1.8 % of the records have online_order data missing we can perform mode imputation for this categorical column."
   ]
  },
  {
   "cell_type": "code",
   "execution_count": 13,
   "id": "577aea42-7528-4965-811e-2c0442b99624",
   "metadata": {},
   "outputs": [
    {
     "data": {
      "text/plain": [
       "1.0"
      ]
     },
     "execution_count": 13,
     "metadata": {},
     "output_type": "execute_result"
    }
   ],
   "source": [
    "most_freq_online_mode = statistics.mode(trans['online_order'])\n",
    "most_freq_online_mode"
   ]
  },
  {
   "cell_type": "markdown",
   "id": "d2be79da-905f-4aa2-a094-9a48d96a5868",
   "metadata": {},
   "source": [
    "Since 1 is the most frequent value of online order. We will do a mode imputation on this categorical value"
   ]
  },
  {
   "cell_type": "code",
   "execution_count": 14,
   "id": "7f1ffdec-caee-4a45-b694-0bdb8fd84a56",
   "metadata": {},
   "outputs": [],
   "source": [
    "trans['online_order'].fillna(1, inplace=True)"
   ]
  },
  {
   "cell_type": "code",
   "execution_count": 15,
   "id": "3708bbb3-fb40-4314-84b9-1ab2ad522811",
   "metadata": {},
   "outputs": [
    {
     "data": {
      "text/plain": [
       "0"
      ]
     },
     "execution_count": 15,
     "metadata": {},
     "output_type": "execute_result"
    }
   ],
   "source": [
    "trans['online_order'].isnull().sum()"
   ]
  },
  {
   "cell_type": "markdown",
   "id": "3b56d070-924d-4de9-8d16-2a793c16d1a8",
   "metadata": {},
   "source": [
    "Currently there are no missing values for online_order column"
   ]
  },
  {
   "cell_type": "markdown",
   "id": "6fce432a-b6ab-4265-b62f-cf2033cfcaa5",
   "metadata": {},
   "source": [
    "## 2. Brand, Product Line, Product Class, Product Size, Standard Cost, Product First Sold Date"
   ]
  },
  {
   "cell_type": "markdown",
   "id": "2afd2ea9-515a-47a7-a79f-7e168142f941",
   "metadata": {},
   "source": [
    "It is observed that when brand is null then all other column values with missing values viz. 'product_line', 'product_class', 'product_size', 'standard_cost', 'product_first_sold_date' are also null. Also this null values comprise 1 % of the dataset. Hence we can drop these records/rows."
   ]
  },
  {
   "cell_type": "code",
   "execution_count": 16,
   "id": "df531f37-9b88-4a63-ac4e-842f93b7cda6",
   "metadata": {},
   "outputs": [
    {
     "data": {
      "text/html": [
       "<div>\n",
       "<style scoped>\n",
       "    .dataframe tbody tr th:only-of-type {\n",
       "        vertical-align: middle;\n",
       "    }\n",
       "\n",
       "    .dataframe tbody tr th {\n",
       "        vertical-align: top;\n",
       "    }\n",
       "\n",
       "    .dataframe thead th {\n",
       "        text-align: right;\n",
       "    }\n",
       "</style>\n",
       "<table border=\"1\" class=\"dataframe\">\n",
       "  <thead>\n",
       "    <tr style=\"text-align: right;\">\n",
       "      <th></th>\n",
       "      <th>brand</th>\n",
       "      <th>product_line</th>\n",
       "      <th>product_class</th>\n",
       "      <th>product_size</th>\n",
       "      <th>standard_cost</th>\n",
       "      <th>product_first_sold_date</th>\n",
       "    </tr>\n",
       "  </thead>\n",
       "  <tbody>\n",
       "    <tr>\n",
       "      <th>136</th>\n",
       "      <td>NaN</td>\n",
       "      <td>NaN</td>\n",
       "      <td>NaN</td>\n",
       "      <td>NaN</td>\n",
       "      <td>NaN</td>\n",
       "      <td>NaN</td>\n",
       "    </tr>\n",
       "  </tbody>\n",
       "</table>\n",
       "</div>"
      ],
      "text/plain": [
       "    brand product_line product_class product_size  standard_cost  \\\n",
       "136   NaN          NaN           NaN          NaN            NaN   \n",
       "\n",
       "     product_first_sold_date  \n",
       "136                      NaN  "
      ]
     },
     "execution_count": 16,
     "metadata": {},
     "output_type": "execute_result"
    }
   ],
   "source": [
    "trans[trans['brand'].isnull()][['brand', 'product_line', 'product_class', 'product_size', \n",
    "                                'standard_cost', 'product_first_sold_date']].drop_duplicates()"
   ]
  },
  {
   "cell_type": "code",
   "execution_count": 17,
   "id": "4d683572-1a2f-44a8-a5b6-f91f848600eb",
   "metadata": {},
   "outputs": [
    {
     "data": {
      "text/plain": [
       "197"
      ]
     },
     "execution_count": 17,
     "metadata": {},
     "output_type": "execute_result"
    }
   ],
   "source": [
    "trans[trans['brand'].isnull()][['brand', 'product_line', 'product_class', 'product_size', \n",
    "                                'standard_cost', 'product_first_sold_date']].shape[0]"
   ]
  },
  {
   "cell_type": "code",
   "execution_count": 18,
   "id": "d3b27be1-5319-4404-a4b0-2e408261095d",
   "metadata": {},
   "outputs": [],
   "source": [
    "records_to_drop = trans[trans['brand'].isnull()][['brand', 'product_line', 'product_class', 'product_size', \n",
    "                                'standard_cost', 'product_first_sold_date']].index"
   ]
  },
  {
   "cell_type": "code",
   "execution_count": 19,
   "id": "9789fc00-f512-43be-b64d-d14840d3027d",
   "metadata": {},
   "outputs": [],
   "source": [
    "trans.drop(index=records_to_drop, axis=0, inplace=True)"
   ]
  },
  {
   "cell_type": "code",
   "execution_count": 20,
   "id": "925d27dd-08a4-4c62-aeeb-31467064d792",
   "metadata": {},
   "outputs": [
    {
     "data": {
      "text/plain": [
       "transaction_id             0\n",
       "product_id                 0\n",
       "customer_id                0\n",
       "transaction_date           0\n",
       "online_order               0\n",
       "order_status               0\n",
       "brand                      0\n",
       "product_line               0\n",
       "product_class              0\n",
       "product_size               0\n",
       "list_price                 0\n",
       "standard_cost              0\n",
       "product_first_sold_date    0\n",
       "dtype: int64"
      ]
     },
     "execution_count": 20,
     "metadata": {},
     "output_type": "execute_result"
    }
   ],
   "source": [
    "trans.isnull().sum()"
   ]
  },
  {
   "cell_type": "markdown",
   "id": "9a07e03f-2041-45af-b93b-71883cd074ed",
   "metadata": {},
   "source": [
    "Finally there are no Missing values in the transaction dataset."
   ]
  },
  {
   "cell_type": "code",
   "execution_count": 21,
   "id": "ed227d65-8eaf-406e-8f36-4f77682f7698",
   "metadata": {},
   "outputs": [
    {
     "name": "stdout",
     "output_type": "stream",
     "text": [
      "Total records after removing Missing Values: 19803\n"
     ]
    }
   ],
   "source": [
    "print(\"Total records after removing Missing Values: {}\".format(trans.shape[0]))"
   ]
  },
  {
   "cell_type": "markdown",
   "id": "7ef9586f-ed6c-4ae1-81d7-767a1edbac05",
   "metadata": {},
   "source": [
    "## Creating a new feature \"Profit\""
   ]
  },
  {
   "cell_type": "markdown",
   "id": "15f4bd92-8068-472b-b6c6-51af943221b8",
   "metadata": {},
   "source": [
    " The Profit column will be the difference between the list price and the standard price of a product."
   ]
  },
  {
   "cell_type": "code",
   "execution_count": 22,
   "id": "a6a867c1-52b4-4f33-8b83-00f6e4b0aee7",
   "metadata": {},
   "outputs": [],
   "source": [
    "trans['Profit'] = trans['list_price']-trans['standard_cost']"
   ]
  },
  {
   "cell_type": "markdown",
   "id": "57b791cd-2e2e-4ef3-97fe-cc0dd3554a10",
   "metadata": {},
   "source": [
    "## Inconsistency Check in Data"
   ]
  },
  {
   "cell_type": "markdown",
   "id": "4c7fede7-08e1-44f0-a279-35a23e52d1e3",
   "metadata": {},
   "source": [
    "We will check whether there is inconsistent data / typo error data is present in the categorical columns.\n",
    "The columns to be checked are 'online_order', 'order_status' ,'product_line', 'product_class' , 'product_class' and 'brand'"
   ]
  },
  {
   "cell_type": "markdown",
   "id": "b47fadb6-b453-47d4-9a9d-1c4c5b2ca3a4",
   "metadata": {},
   "source": [
    "### 1 Online Order"
   ]
  },
  {
   "cell_type": "code",
   "execution_count": 25,
   "id": "fc19f987-4c52-48a3-a2b7-c38a7695ce24",
   "metadata": {},
   "outputs": [
    {
     "data": {
      "text/plain": [
       "online_order\n",
       "1.0    10097\n",
       "0.0     9706\n",
       "Name: count, dtype: int64"
      ]
     },
     "execution_count": 25,
     "metadata": {},
     "output_type": "execute_result"
    }
   ],
   "source": [
    "trans['online_order'].value_counts()"
   ]
  },
  {
   "cell_type": "markdown",
   "id": "89b465b4-f55f-488c-a326-82dc6f6693db",
   "metadata": {},
   "source": [
    "There is no inconsistent data in online_order column"
   ]
  },
  {
   "cell_type": "markdown",
   "id": "549f64c6-b75b-44b6-8b8b-e0269d95afab",
   "metadata": {},
   "source": [
    "### 2 Order Status"
   ]
  },
  {
   "cell_type": "code",
   "execution_count": 26,
   "id": "a5b93a53-407b-44ac-9cad-11562fdaa082",
   "metadata": {},
   "outputs": [
    {
     "data": {
      "text/plain": [
       "order_status\n",
       "Approved     19625\n",
       "Cancelled      178\n",
       "Name: count, dtype: int64"
      ]
     },
     "execution_count": 26,
     "metadata": {},
     "output_type": "execute_result"
    }
   ],
   "source": [
    "trans['order_status'].value_counts()"
   ]
  },
  {
   "cell_type": "markdown",
   "id": "fa8406ff-254d-4f79-86eb-85405280067a",
   "metadata": {},
   "source": [
    "There is no inconsistent data in order_status column"
   ]
  },
  {
   "cell_type": "markdown",
   "id": "36f8cff9-8208-46f1-92e2-63f645f76bea",
   "metadata": {},
   "source": [
    "### 3 Product Line"
   ]
  },
  {
   "cell_type": "code",
   "execution_count": 29,
   "id": "6cb535ed-3998-4b34-b0d5-1789da21fc7f",
   "metadata": {},
   "outputs": [
    {
     "data": {
      "text/plain": [
       "product_line\n",
       "Standard    14176\n",
       "Road         3970\n",
       "Touring      1234\n",
       "Mountain      423\n",
       "Name: count, dtype: int64"
      ]
     },
     "execution_count": 29,
     "metadata": {},
     "output_type": "execute_result"
    }
   ],
   "source": [
    "trans['product_line'].value_counts()\n"
   ]
  },
  {
   "cell_type": "markdown",
   "id": "e4d54449-5c9d-47f1-9b40-91736c71ee8a",
   "metadata": {},
   "source": [
    "there is no inconsistent data in product_line column."
   ]
  },
  {
   "cell_type": "markdown",
   "id": "a932a144-d31b-4668-bcd7-3e9359837008",
   "metadata": {},
   "source": [
    "### 4 Product Class"
   ]
  },
  {
   "cell_type": "code",
   "execution_count": 30,
   "id": "3126cded-4320-44f1-8c57-c1ec29bfdaa7",
   "metadata": {},
   "outputs": [
    {
     "data": {
      "text/plain": [
       "product_class\n",
       "medium    13826\n",
       "high       3013\n",
       "low        2964\n",
       "Name: count, dtype: int64"
      ]
     },
     "execution_count": 30,
     "metadata": {},
     "output_type": "execute_result"
    }
   ],
   "source": [
    "trans['product_class'].value_counts()"
   ]
  },
  {
   "cell_type": "markdown",
   "id": "8fb44f5c-e69f-4fee-abfe-83f606b5d36d",
   "metadata": {},
   "source": [
    "There is no inconsistent data in product_class column."
   ]
  },
  {
   "cell_type": "markdown",
   "id": "190da0b0-d5f5-497b-a0fe-efbf99f8d4af",
   "metadata": {},
   "source": [
    "### 5 Product Size"
   ]
  },
  {
   "cell_type": "code",
   "execution_count": 31,
   "id": "fc269baf-8618-4cb3-827b-8b0bcb3011fc",
   "metadata": {},
   "outputs": [
    {
     "data": {
      "text/plain": [
       "product_size\n",
       "medium    12990\n",
       "large      3976\n",
       "small      2837\n",
       "Name: count, dtype: int64"
      ]
     },
     "execution_count": 31,
     "metadata": {},
     "output_type": "execute_result"
    }
   ],
   "source": [
    "trans['product_size'].value_counts()"
   ]
  },
  {
   "cell_type": "markdown",
   "id": "d78374f9-1b13-42aa-aa86-5b446a8afec6",
   "metadata": {},
   "source": [
    "There is no inconsistent data in product_size column"
   ]
  },
  {
   "cell_type": "markdown",
   "id": "8411b9e6-9208-4c47-9b20-719ef36e9ca8",
   "metadata": {},
   "source": [
    "### 6 Brand"
   ]
  },
  {
   "cell_type": "code",
   "execution_count": 32,
   "id": "63a11cb5-163a-40e3-a696-9efedf980b1b",
   "metadata": {},
   "outputs": [
    {
     "data": {
      "text/plain": [
       "brand\n",
       "Solex             4253\n",
       "Giant Bicycles    3312\n",
       "WeareA2B          3295\n",
       "OHM Cycles        3043\n",
       "Trek Bicycles     2990\n",
       "Norco Bicycles    2910\n",
       "Name: count, dtype: int64"
      ]
     },
     "execution_count": 32,
     "metadata": {},
     "output_type": "execute_result"
    }
   ],
   "source": [
    "trans['brand'].value_counts()"
   ]
  },
  {
   "cell_type": "markdown",
   "id": "858b812b-0c61-45e5-b93c-41b3db2975a5",
   "metadata": {},
   "source": [
    "There is no inconsistent data in brand column."
   ]
  },
  {
   "cell_type": "markdown",
   "id": "62ff6d63-98eb-4d32-8b67-b6215a3b83ea",
   "metadata": {},
   "source": [
    "## Duplication Checks"
   ]
  },
  {
   "cell_type": "code",
   "execution_count": 33,
   "id": "cb47ade5-97cf-42d0-9d20-5f6c30c5de96",
   "metadata": {},
   "outputs": [
    {
     "name": "stdout",
     "output_type": "stream",
     "text": [
      "Number of records after removing customer_id (pk), duplicates : 19803\n",
      "Number of records in original dataset : 19803\n"
     ]
    }
   ],
   "source": [
    "trans_dedupped = trans.drop('transaction_id', axis=1).drop_duplicates()\n",
    "\n",
    "print(\"Number of records after removing customer_id (pk), duplicates : {}\".format(trans_dedupped.shape[0]))\n",
    "print(\"Number of records in original dataset : {}\".format(trans.shape[0]))"
   ]
  },
  {
   "cell_type": "markdown",
   "id": "b8a55ddf-1ebe-4d7b-a368-11727b886a3a",
   "metadata": {},
   "source": [
    "since both the numbers are same. There are no duplicate records in the dataset"
   ]
  },
  {
   "cell_type": "markdown",
   "id": "bdced4af-93e5-4d9d-8fd5-b4bfa7ae3cce",
   "metadata": {},
   "source": [
    "## Exporting the Cleaned Transactions Data Set to csv"
   ]
  },
  {
   "cell_type": "code",
   "execution_count": 35,
   "id": "1ff077e9-09e8-4f02-9034-39412d5db850",
   "metadata": {},
   "outputs": [],
   "source": [
    "trans.to_csv('Transactions_Cleaned.csv', index=False)"
   ]
  }
 ],
 "metadata": {
  "kernelspec": {
   "display_name": "Python 3 (ipykernel)",
   "language": "python",
   "name": "python3"
  },
  "language_info": {
   "codemirror_mode": {
    "name": "ipython",
    "version": 3
   },
   "file_extension": ".py",
   "mimetype": "text/x-python",
   "name": "python",
   "nbconvert_exporter": "python",
   "pygments_lexer": "ipython3",
   "version": "3.11.7"
  }
 },
 "nbformat": 4,
 "nbformat_minor": 5
}
