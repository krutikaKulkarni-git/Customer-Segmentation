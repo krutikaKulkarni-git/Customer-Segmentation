{
 "cells": [
  {
   "cell_type": "code",
   "execution_count": 3,
   "id": "b09d8395-7f83-4f4f-b3c9-8bf801380338",
   "metadata": {},
   "outputs": [],
   "source": [
    "import pandas as pd\n",
    "import math\n",
    "import numpy as np\n",
    "import matplotlib.pyplot as plt\n",
    "import seaborn as sns\n",
    "%matplotlib inline\n",
    "\n",
    "from datetime import datetime, date\n",
    "plt.style.use('ggplot')"
   ]
  },
  {
   "cell_type": "code",
   "execution_count": 4,
   "id": "7f85fac0-ee64-4287-933a-21718c53a151",
   "metadata": {},
   "outputs": [],
   "source": [
    "# Loading the Transactions and Customer Demographics Datasets\n",
    "\n",
    "trans = pd.read_csv('Transactions_Cleaned.csv')\n",
    "cust = pd.read_csv('CustomerDemographic_Cleaned.csv')"
   ]
  },
  {
   "cell_type": "code",
   "execution_count": 5,
   "id": "330de928-4f82-4be1-9a30-df0672606de4",
   "metadata": {},
   "outputs": [
    {
     "data": {
      "text/html": [
       "<div>\n",
       "<style scoped>\n",
       "    .dataframe tbody tr th:only-of-type {\n",
       "        vertical-align: middle;\n",
       "    }\n",
       "\n",
       "    .dataframe tbody tr th {\n",
       "        vertical-align: top;\n",
       "    }\n",
       "\n",
       "    .dataframe thead th {\n",
       "        text-align: right;\n",
       "    }\n",
       "</style>\n",
       "<table border=\"1\" class=\"dataframe\">\n",
       "  <thead>\n",
       "    <tr style=\"text-align: right;\">\n",
       "      <th></th>\n",
       "      <th>transaction_id</th>\n",
       "      <th>product_id</th>\n",
       "      <th>customer_id</th>\n",
       "      <th>transaction_date</th>\n",
       "      <th>online_order</th>\n",
       "      <th>order_status</th>\n",
       "      <th>brand</th>\n",
       "      <th>product_line</th>\n",
       "      <th>product_class</th>\n",
       "      <th>product_size</th>\n",
       "      <th>list_price</th>\n",
       "      <th>standard_cost</th>\n",
       "      <th>product_first_sold_date</th>\n",
       "      <th>Profit</th>\n",
       "    </tr>\n",
       "  </thead>\n",
       "  <tbody>\n",
       "    <tr>\n",
       "      <th>0</th>\n",
       "      <td>1</td>\n",
       "      <td>2</td>\n",
       "      <td>2950</td>\n",
       "      <td>2017-02-25</td>\n",
       "      <td>0.0</td>\n",
       "      <td>Approved</td>\n",
       "      <td>Solex</td>\n",
       "      <td>Standard</td>\n",
       "      <td>medium</td>\n",
       "      <td>medium</td>\n",
       "      <td>71.49</td>\n",
       "      <td>53.62</td>\n",
       "      <td>41245.0</td>\n",
       "      <td>17.87</td>\n",
       "    </tr>\n",
       "    <tr>\n",
       "      <th>1</th>\n",
       "      <td>2</td>\n",
       "      <td>3</td>\n",
       "      <td>3120</td>\n",
       "      <td>2017-05-21</td>\n",
       "      <td>1.0</td>\n",
       "      <td>Approved</td>\n",
       "      <td>Trek Bicycles</td>\n",
       "      <td>Standard</td>\n",
       "      <td>medium</td>\n",
       "      <td>large</td>\n",
       "      <td>2091.47</td>\n",
       "      <td>388.92</td>\n",
       "      <td>41701.0</td>\n",
       "      <td>1702.55</td>\n",
       "    </tr>\n",
       "    <tr>\n",
       "      <th>2</th>\n",
       "      <td>3</td>\n",
       "      <td>37</td>\n",
       "      <td>402</td>\n",
       "      <td>2017-10-16</td>\n",
       "      <td>0.0</td>\n",
       "      <td>Approved</td>\n",
       "      <td>OHM Cycles</td>\n",
       "      <td>Standard</td>\n",
       "      <td>low</td>\n",
       "      <td>medium</td>\n",
       "      <td>1793.43</td>\n",
       "      <td>248.82</td>\n",
       "      <td>36361.0</td>\n",
       "      <td>1544.61</td>\n",
       "    </tr>\n",
       "    <tr>\n",
       "      <th>3</th>\n",
       "      <td>4</td>\n",
       "      <td>88</td>\n",
       "      <td>3135</td>\n",
       "      <td>2017-08-31</td>\n",
       "      <td>0.0</td>\n",
       "      <td>Approved</td>\n",
       "      <td>Norco Bicycles</td>\n",
       "      <td>Standard</td>\n",
       "      <td>medium</td>\n",
       "      <td>medium</td>\n",
       "      <td>1198.46</td>\n",
       "      <td>381.10</td>\n",
       "      <td>36145.0</td>\n",
       "      <td>817.36</td>\n",
       "    </tr>\n",
       "    <tr>\n",
       "      <th>4</th>\n",
       "      <td>5</td>\n",
       "      <td>78</td>\n",
       "      <td>787</td>\n",
       "      <td>2017-10-01</td>\n",
       "      <td>1.0</td>\n",
       "      <td>Approved</td>\n",
       "      <td>Giant Bicycles</td>\n",
       "      <td>Standard</td>\n",
       "      <td>medium</td>\n",
       "      <td>large</td>\n",
       "      <td>1765.30</td>\n",
       "      <td>709.48</td>\n",
       "      <td>42226.0</td>\n",
       "      <td>1055.82</td>\n",
       "    </tr>\n",
       "  </tbody>\n",
       "</table>\n",
       "</div>"
      ],
      "text/plain": [
       "   transaction_id  product_id  customer_id transaction_date  online_order  \\\n",
       "0               1           2         2950       2017-02-25           0.0   \n",
       "1               2           3         3120       2017-05-21           1.0   \n",
       "2               3          37          402       2017-10-16           0.0   \n",
       "3               4          88         3135       2017-08-31           0.0   \n",
       "4               5          78          787       2017-10-01           1.0   \n",
       "\n",
       "  order_status           brand product_line product_class product_size  \\\n",
       "0     Approved           Solex     Standard        medium       medium   \n",
       "1     Approved   Trek Bicycles     Standard        medium        large   \n",
       "2     Approved      OHM Cycles     Standard           low       medium   \n",
       "3     Approved  Norco Bicycles     Standard        medium       medium   \n",
       "4     Approved  Giant Bicycles     Standard        medium        large   \n",
       "\n",
       "   list_price  standard_cost  product_first_sold_date   Profit  \n",
       "0       71.49          53.62                  41245.0    17.87  \n",
       "1     2091.47         388.92                  41701.0  1702.55  \n",
       "2     1793.43         248.82                  36361.0  1544.61  \n",
       "3     1198.46         381.10                  36145.0   817.36  \n",
       "4     1765.30         709.48                  42226.0  1055.82  "
      ]
     },
     "execution_count": 5,
     "metadata": {},
     "output_type": "execute_result"
    }
   ],
   "source": [
    "# Fetching first 5 transaction records\n",
    "\n",
    "trans.head(5)"
   ]
  },
  {
   "cell_type": "code",
   "execution_count": 6,
   "id": "6d3971f2-668b-4647-b5a4-53c9c022d9cb",
   "metadata": {},
   "outputs": [
    {
     "name": "stdout",
     "output_type": "stream",
     "text": [
      "Total records (rows) in the Transaction Dataset : 19803\n",
      "Total features (columns) in the Transaction Dataset : 14\n"
     ]
    }
   ],
   "source": [
    "print(\"Total records (rows) in the Transaction Dataset : {}\".format(trans.shape[0]))\n",
    "print(\"Total features (columns) in the Transaction Dataset : {}\".format(trans.shape[1]))"
   ]
  },
  {
   "cell_type": "code",
   "execution_count": 7,
   "id": "0976d45a-fa85-42e7-a34e-ced8fd27b895",
   "metadata": {},
   "outputs": [
    {
     "data": {
      "text/html": [
       "<div>\n",
       "<style scoped>\n",
       "    .dataframe tbody tr th:only-of-type {\n",
       "        vertical-align: middle;\n",
       "    }\n",
       "\n",
       "    .dataframe tbody tr th {\n",
       "        vertical-align: top;\n",
       "    }\n",
       "\n",
       "    .dataframe thead th {\n",
       "        text-align: right;\n",
       "    }\n",
       "</style>\n",
       "<table border=\"1\" class=\"dataframe\">\n",
       "  <thead>\n",
       "    <tr style=\"text-align: right;\">\n",
       "      <th></th>\n",
       "      <th>customer_id</th>\n",
       "      <th>first_name</th>\n",
       "      <th>last_name</th>\n",
       "      <th>gender</th>\n",
       "      <th>past_3_years_bike_related_purchases</th>\n",
       "      <th>DOB</th>\n",
       "      <th>job_title</th>\n",
       "      <th>job_industry_category</th>\n",
       "      <th>wealth_segment</th>\n",
       "      <th>deceased_indicator</th>\n",
       "      <th>owns_car</th>\n",
       "      <th>tenure</th>\n",
       "      <th>Age</th>\n",
       "    </tr>\n",
       "  </thead>\n",
       "  <tbody>\n",
       "    <tr>\n",
       "      <th>0</th>\n",
       "      <td>1</td>\n",
       "      <td>Laraine</td>\n",
       "      <td>Medendorp</td>\n",
       "      <td>Female</td>\n",
       "      <td>93</td>\n",
       "      <td>1953-10-12</td>\n",
       "      <td>Executive Secretary</td>\n",
       "      <td>Health</td>\n",
       "      <td>Mass Customer</td>\n",
       "      <td>N</td>\n",
       "      <td>Yes</td>\n",
       "      <td>11.0</td>\n",
       "      <td>70</td>\n",
       "    </tr>\n",
       "    <tr>\n",
       "      <th>1</th>\n",
       "      <td>2</td>\n",
       "      <td>Eli</td>\n",
       "      <td>Bockman</td>\n",
       "      <td>Male</td>\n",
       "      <td>81</td>\n",
       "      <td>1980-12-16</td>\n",
       "      <td>Administrative Officer</td>\n",
       "      <td>Financial Services</td>\n",
       "      <td>Mass Customer</td>\n",
       "      <td>N</td>\n",
       "      <td>Yes</td>\n",
       "      <td>16.0</td>\n",
       "      <td>43</td>\n",
       "    </tr>\n",
       "    <tr>\n",
       "      <th>2</th>\n",
       "      <td>3</td>\n",
       "      <td>Arlin</td>\n",
       "      <td>Dearle</td>\n",
       "      <td>Male</td>\n",
       "      <td>61</td>\n",
       "      <td>1954-01-20</td>\n",
       "      <td>Recruiting Manager</td>\n",
       "      <td>Property</td>\n",
       "      <td>Mass Customer</td>\n",
       "      <td>N</td>\n",
       "      <td>Yes</td>\n",
       "      <td>15.0</td>\n",
       "      <td>70</td>\n",
       "    </tr>\n",
       "    <tr>\n",
       "      <th>3</th>\n",
       "      <td>4</td>\n",
       "      <td>Talbot</td>\n",
       "      <td>NaN</td>\n",
       "      <td>Male</td>\n",
       "      <td>33</td>\n",
       "      <td>1961-10-03</td>\n",
       "      <td>Missing</td>\n",
       "      <td>IT</td>\n",
       "      <td>Mass Customer</td>\n",
       "      <td>N</td>\n",
       "      <td>No</td>\n",
       "      <td>7.0</td>\n",
       "      <td>62</td>\n",
       "    </tr>\n",
       "    <tr>\n",
       "      <th>4</th>\n",
       "      <td>5</td>\n",
       "      <td>Sheila-kathryn</td>\n",
       "      <td>Calton</td>\n",
       "      <td>Female</td>\n",
       "      <td>56</td>\n",
       "      <td>1977-05-13</td>\n",
       "      <td>Senior Editor</td>\n",
       "      <td>Missing</td>\n",
       "      <td>Affluent Customer</td>\n",
       "      <td>N</td>\n",
       "      <td>Yes</td>\n",
       "      <td>8.0</td>\n",
       "      <td>46</td>\n",
       "    </tr>\n",
       "  </tbody>\n",
       "</table>\n",
       "</div>"
      ],
      "text/plain": [
       "   customer_id      first_name  last_name  gender  \\\n",
       "0            1         Laraine  Medendorp  Female   \n",
       "1            2             Eli    Bockman    Male   \n",
       "2            3           Arlin     Dearle    Male   \n",
       "3            4          Talbot        NaN    Male   \n",
       "4            5  Sheila-kathryn     Calton  Female   \n",
       "\n",
       "   past_3_years_bike_related_purchases         DOB               job_title  \\\n",
       "0                                   93  1953-10-12     Executive Secretary   \n",
       "1                                   81  1980-12-16  Administrative Officer   \n",
       "2                                   61  1954-01-20      Recruiting Manager   \n",
       "3                                   33  1961-10-03                 Missing   \n",
       "4                                   56  1977-05-13           Senior Editor   \n",
       "\n",
       "  job_industry_category     wealth_segment deceased_indicator owns_car  \\\n",
       "0                Health      Mass Customer                  N      Yes   \n",
       "1    Financial Services      Mass Customer                  N      Yes   \n",
       "2              Property      Mass Customer                  N      Yes   \n",
       "3                    IT      Mass Customer                  N       No   \n",
       "4               Missing  Affluent Customer                  N      Yes   \n",
       "\n",
       "   tenure  Age  \n",
       "0    11.0   70  \n",
       "1    16.0   43  \n",
       "2    15.0   70  \n",
       "3     7.0   62  \n",
       "4     8.0   46  "
      ]
     },
     "execution_count": 7,
     "metadata": {},
     "output_type": "execute_result"
    }
   ],
   "source": [
    "# Fetching first 5 Customer Demographics records\n",
    "\n",
    "cust.head(5)"
   ]
  },
  {
   "cell_type": "code",
   "execution_count": 8,
   "id": "7370639b-b491-422d-b51c-0a15399b0869",
   "metadata": {},
   "outputs": [
    {
     "name": "stdout",
     "output_type": "stream",
     "text": [
      "Total records (rows) in the Customer Demographics Dataset : 3912\n",
      "Total features (columns) in the Customer Demographics Dataset : 13\n"
     ]
    }
   ],
   "source": [
    "print(\"Total records (rows) in the Customer Demographics Dataset : {}\".format(cust.shape[0]))\n",
    "print(\"Total features (columns) in the Customer Demographics Dataset : {}\".format(cust.shape[1]))"
   ]
  },
  {
   "cell_type": "code",
   "execution_count": 9,
   "id": "b5b211e7-a160-4dc2-8aeb-23787c656df2",
   "metadata": {},
   "outputs": [],
   "source": [
    "# Merging both the Transaction Dataset and Customer Demographics Dataset based on customer_id.\n",
    "\n",
    "merged_trans_cust = pd.merge(trans, cust, left_on='customer_id', right_on='customer_id', how='inner')"
   ]
  },
  {
   "cell_type": "code",
   "execution_count": 10,
   "id": "bcd0590c-1c81-44de-bb1f-c623405c2139",
   "metadata": {},
   "outputs": [
    {
     "data": {
      "text/html": [
       "<div>\n",
       "<style scoped>\n",
       "    .dataframe tbody tr th:only-of-type {\n",
       "        vertical-align: middle;\n",
       "    }\n",
       "\n",
       "    .dataframe tbody tr th {\n",
       "        vertical-align: top;\n",
       "    }\n",
       "\n",
       "    .dataframe thead th {\n",
       "        text-align: right;\n",
       "    }\n",
       "</style>\n",
       "<table border=\"1\" class=\"dataframe\">\n",
       "  <thead>\n",
       "    <tr style=\"text-align: right;\">\n",
       "      <th></th>\n",
       "      <th>transaction_id</th>\n",
       "      <th>product_id</th>\n",
       "      <th>customer_id</th>\n",
       "      <th>transaction_date</th>\n",
       "      <th>online_order</th>\n",
       "      <th>order_status</th>\n",
       "      <th>brand</th>\n",
       "      <th>product_line</th>\n",
       "      <th>product_class</th>\n",
       "      <th>product_size</th>\n",
       "      <th>...</th>\n",
       "      <th>gender</th>\n",
       "      <th>past_3_years_bike_related_purchases</th>\n",
       "      <th>DOB</th>\n",
       "      <th>job_title</th>\n",
       "      <th>job_industry_category</th>\n",
       "      <th>wealth_segment</th>\n",
       "      <th>deceased_indicator</th>\n",
       "      <th>owns_car</th>\n",
       "      <th>tenure</th>\n",
       "      <th>Age</th>\n",
       "    </tr>\n",
       "  </thead>\n",
       "  <tbody>\n",
       "    <tr>\n",
       "      <th>0</th>\n",
       "      <td>1</td>\n",
       "      <td>2</td>\n",
       "      <td>2950</td>\n",
       "      <td>2017-02-25</td>\n",
       "      <td>0.0</td>\n",
       "      <td>Approved</td>\n",
       "      <td>Solex</td>\n",
       "      <td>Standard</td>\n",
       "      <td>medium</td>\n",
       "      <td>medium</td>\n",
       "      <td>...</td>\n",
       "      <td>Male</td>\n",
       "      <td>19</td>\n",
       "      <td>1955-01-11</td>\n",
       "      <td>Software Engineer I</td>\n",
       "      <td>Financial Services</td>\n",
       "      <td>Mass Customer</td>\n",
       "      <td>N</td>\n",
       "      <td>Yes</td>\n",
       "      <td>10.0</td>\n",
       "      <td>69</td>\n",
       "    </tr>\n",
       "    <tr>\n",
       "      <th>1</th>\n",
       "      <td>11065</td>\n",
       "      <td>1</td>\n",
       "      <td>2950</td>\n",
       "      <td>2017-10-16</td>\n",
       "      <td>0.0</td>\n",
       "      <td>Approved</td>\n",
       "      <td>Giant Bicycles</td>\n",
       "      <td>Standard</td>\n",
       "      <td>medium</td>\n",
       "      <td>medium</td>\n",
       "      <td>...</td>\n",
       "      <td>Male</td>\n",
       "      <td>19</td>\n",
       "      <td>1955-01-11</td>\n",
       "      <td>Software Engineer I</td>\n",
       "      <td>Financial Services</td>\n",
       "      <td>Mass Customer</td>\n",
       "      <td>N</td>\n",
       "      <td>Yes</td>\n",
       "      <td>10.0</td>\n",
       "      <td>69</td>\n",
       "    </tr>\n",
       "    <tr>\n",
       "      <th>2</th>\n",
       "      <td>18923</td>\n",
       "      <td>62</td>\n",
       "      <td>2950</td>\n",
       "      <td>2017-04-26</td>\n",
       "      <td>0.0</td>\n",
       "      <td>Approved</td>\n",
       "      <td>Solex</td>\n",
       "      <td>Standard</td>\n",
       "      <td>medium</td>\n",
       "      <td>medium</td>\n",
       "      <td>...</td>\n",
       "      <td>Male</td>\n",
       "      <td>19</td>\n",
       "      <td>1955-01-11</td>\n",
       "      <td>Software Engineer I</td>\n",
       "      <td>Financial Services</td>\n",
       "      <td>Mass Customer</td>\n",
       "      <td>N</td>\n",
       "      <td>Yes</td>\n",
       "      <td>10.0</td>\n",
       "      <td>69</td>\n",
       "    </tr>\n",
       "    <tr>\n",
       "      <th>3</th>\n",
       "      <td>2</td>\n",
       "      <td>3</td>\n",
       "      <td>3120</td>\n",
       "      <td>2017-05-21</td>\n",
       "      <td>1.0</td>\n",
       "      <td>Approved</td>\n",
       "      <td>Trek Bicycles</td>\n",
       "      <td>Standard</td>\n",
       "      <td>medium</td>\n",
       "      <td>large</td>\n",
       "      <td>...</td>\n",
       "      <td>Female</td>\n",
       "      <td>89</td>\n",
       "      <td>1979-02-04</td>\n",
       "      <td>Clinical Specialist</td>\n",
       "      <td>Health</td>\n",
       "      <td>Mass Customer</td>\n",
       "      <td>N</td>\n",
       "      <td>Yes</td>\n",
       "      <td>10.0</td>\n",
       "      <td>45</td>\n",
       "    </tr>\n",
       "    <tr>\n",
       "      <th>4</th>\n",
       "      <td>6862</td>\n",
       "      <td>4</td>\n",
       "      <td>3120</td>\n",
       "      <td>2017-10-05</td>\n",
       "      <td>0.0</td>\n",
       "      <td>Approved</td>\n",
       "      <td>Giant Bicycles</td>\n",
       "      <td>Standard</td>\n",
       "      <td>high</td>\n",
       "      <td>medium</td>\n",
       "      <td>...</td>\n",
       "      <td>Female</td>\n",
       "      <td>89</td>\n",
       "      <td>1979-02-04</td>\n",
       "      <td>Clinical Specialist</td>\n",
       "      <td>Health</td>\n",
       "      <td>Mass Customer</td>\n",
       "      <td>N</td>\n",
       "      <td>Yes</td>\n",
       "      <td>10.0</td>\n",
       "      <td>45</td>\n",
       "    </tr>\n",
       "  </tbody>\n",
       "</table>\n",
       "<p>5 rows × 26 columns</p>\n",
       "</div>"
      ],
      "text/plain": [
       "   transaction_id  product_id  customer_id transaction_date  online_order  \\\n",
       "0               1           2         2950       2017-02-25           0.0   \n",
       "1           11065           1         2950       2017-10-16           0.0   \n",
       "2           18923          62         2950       2017-04-26           0.0   \n",
       "3               2           3         3120       2017-05-21           1.0   \n",
       "4            6862           4         3120       2017-10-05           0.0   \n",
       "\n",
       "  order_status           brand product_line product_class product_size  ...  \\\n",
       "0     Approved           Solex     Standard        medium       medium  ...   \n",
       "1     Approved  Giant Bicycles     Standard        medium       medium  ...   \n",
       "2     Approved           Solex     Standard        medium       medium  ...   \n",
       "3     Approved   Trek Bicycles     Standard        medium        large  ...   \n",
       "4     Approved  Giant Bicycles     Standard          high       medium  ...   \n",
       "\n",
       "   gender  past_3_years_bike_related_purchases         DOB  \\\n",
       "0    Male                                   19  1955-01-11   \n",
       "1    Male                                   19  1955-01-11   \n",
       "2    Male                                   19  1955-01-11   \n",
       "3  Female                                   89  1979-02-04   \n",
       "4  Female                                   89  1979-02-04   \n",
       "\n",
       "             job_title job_industry_category wealth_segment  \\\n",
       "0  Software Engineer I    Financial Services  Mass Customer   \n",
       "1  Software Engineer I    Financial Services  Mass Customer   \n",
       "2  Software Engineer I    Financial Services  Mass Customer   \n",
       "3  Clinical Specialist                Health  Mass Customer   \n",
       "4  Clinical Specialist                Health  Mass Customer   \n",
       "\n",
       "  deceased_indicator  owns_car tenure Age  \n",
       "0                  N       Yes   10.0  69  \n",
       "1                  N       Yes   10.0  69  \n",
       "2                  N       Yes   10.0  69  \n",
       "3                  N       Yes   10.0  45  \n",
       "4                  N       Yes   10.0  45  \n",
       "\n",
       "[5 rows x 26 columns]"
      ]
     },
     "execution_count": 10,
     "metadata": {},
     "output_type": "execute_result"
    }
   ],
   "source": [
    "# Fetching the first 5 records of the merged dataset.\n",
    "\n",
    "merged_trans_cust.head(5)"
   ]
  },
  {
   "cell_type": "code",
   "execution_count": 11,
   "id": "f230fd6d-14c0-4493-89b1-850fcc2bf33f",
   "metadata": {},
   "outputs": [
    {
     "name": "stdout",
     "output_type": "stream",
     "text": [
      "Total records (rows) in the Merged Dataset : 19354\n",
      "Total features (columns) in the Merged Dataset : 26\n"
     ]
    }
   ],
   "source": [
    "print(\"Total records (rows) in the Merged Dataset : {}\".format(merged_trans_cust.shape[0]))\n",
    "print(\"Total features (columns) in the Merged Dataset : {}\".format(merged_trans_cust.shape[1]))"
   ]
  },
  {
   "cell_type": "code",
   "execution_count": 12,
   "id": "4dc0aaa4-0020-4644-a139-b5306f1639f2",
   "metadata": {
    "scrolled": true
   },
   "outputs": [
    {
     "name": "stdout",
     "output_type": "stream",
     "text": [
      "<class 'pandas.core.frame.DataFrame'>\n",
      "RangeIndex: 19354 entries, 0 to 19353\n",
      "Data columns (total 26 columns):\n",
      " #   Column                               Non-Null Count  Dtype  \n",
      "---  ------                               --------------  -----  \n",
      " 0   transaction_id                       19354 non-null  int64  \n",
      " 1   product_id                           19354 non-null  int64  \n",
      " 2   customer_id                          19354 non-null  int64  \n",
      " 3   transaction_date                     19354 non-null  object \n",
      " 4   online_order                         19354 non-null  float64\n",
      " 5   order_status                         19354 non-null  object \n",
      " 6   brand                                19354 non-null  object \n",
      " 7   product_line                         19354 non-null  object \n",
      " 8   product_class                        19354 non-null  object \n",
      " 9   product_size                         19354 non-null  object \n",
      " 10  list_price                           19354 non-null  float64\n",
      " 11  standard_cost                        19354 non-null  float64\n",
      " 12  product_first_sold_date              19354 non-null  float64\n",
      " 13  Profit                               19354 non-null  float64\n",
      " 14  first_name                           19354 non-null  object \n",
      " 15  last_name                            18732 non-null  object \n",
      " 16  gender                               19354 non-null  object \n",
      " 17  past_3_years_bike_related_purchases  19354 non-null  int64  \n",
      " 18  DOB                                  19354 non-null  object \n",
      " 19  job_title                            19354 non-null  object \n",
      " 20  job_industry_category                19354 non-null  object \n",
      " 21  wealth_segment                       19354 non-null  object \n",
      " 22  deceased_indicator                   19354 non-null  object \n",
      " 23  owns_car                             19354 non-null  object \n",
      " 24  tenure                               19354 non-null  float64\n",
      " 25  Age                                  19354 non-null  int64  \n",
      "dtypes: float64(6), int64(5), object(15)\n",
      "memory usage: 3.8+ MB\n"
     ]
    }
   ],
   "source": [
    "merged_trans_cust.info()"
   ]
  },
  {
   "cell_type": "markdown",
   "id": "ea63cb47-38de-48bc-b9ed-ebee2f028a80",
   "metadata": {
    "jp-MarkdownHeadingCollapsed": true
   },
   "source": [
    "The data-type of transaction_date column is not in date-time format. Hence the data-type of the column should be changed from object to datetime type."
   ]
  },
  {
   "cell_type": "code",
   "execution_count": 13,
   "id": "e81ce9e9-9d92-4531-81cb-18048da27ec4",
   "metadata": {},
   "outputs": [],
   "source": [
    "merged_trans_cust['transaction_date']= pd.to_datetime(merged_trans_cust['transaction_date'])"
   ]
  },
  {
   "cell_type": "markdown",
   "id": "4fa8134b-51a5-4a7f-a75d-d9faee54c8e8",
   "metadata": {},
   "source": [
    "## RFM Analysis"
   ]
  },
  {
   "cell_type": "markdown",
   "id": "2cb9e2d6-cd81-4903-b5bb-8ecf92bf09c5",
   "metadata": {},
   "source": [
    "RFM (Recency, Frequency, Monetary) analysis is a behavior-based approach grouping customers into segments. It groups the customers on the basis of their previous purchase transactions. How recently, how often, and how much did a customer buy. RFM filters customers into various groups for the purpose of better service. There is a segment of customer who is the big spender but what if they purchased only once or how recently they purchased? Do they often purchase our product? Also, It helps managers to run an effective promotional campaign for personalized service.\n",
    "\n",
    "Recency (R): Who have purchased recently? Number of days since last purchase (least recency)\n",
    "Frequency (F): Who has purchased frequently? It means the total number of purchases. ( high frequency)\n",
    "Monetary Value(M): Who have high purchase amount? It means the total money customer spent (high monetary value)"
   ]
  },
  {
   "cell_type": "code",
   "execution_count": 14,
   "id": "a2d0efe3-3fa5-4875-a598-6c5430ceaf1b",
   "metadata": {},
   "outputs": [
    {
     "data": {
      "text/plain": [
       "datetime.date(2017, 12, 30)"
      ]
     },
     "execution_count": 14,
     "metadata": {},
     "output_type": "execute_result"
    }
   ],
   "source": [
    "# Maximum Transaction Date or the latest transaction date.\n",
    "\n",
    "max_trans_date = max(merged_trans_cust['transaction_date']).date()\n",
    "max_trans_date"
   ]
  },
  {
   "cell_type": "code",
   "execution_count": 15,
   "id": "39920dcd-2f6e-4ba5-bae7-de88aecdaf33",
   "metadata": {},
   "outputs": [],
   "source": [
    "# Taking the last transaction date as a reference date for comparision and \n",
    "# finding the number of days between a transaction date and last transaction date to compute the recency.\n",
    "\n",
    "comparison_date = datetime.strptime(str(max_trans_date), \"%Y-%m-%d\")"
   ]
  },
  {
   "cell_type": "code",
   "execution_count": 16,
   "id": "70c9891b-5733-4ba7-87f3-6466245699cc",
   "metadata": {},
   "outputs": [],
   "source": [
    "# Creating a RFM table that will contain all the values for recency , frequency and Monetray data. \n",
    "\n",
    "rfm_table = merged_trans_cust.groupby(['customer_id']).agg({'transaction_date': lambda date : (comparison_date - date.max()).days,\n",
    "                                                            'product_id' : lambda prod_id : len(prod_id), \n",
    "                                                            'Profit' : lambda p : sum(p)})"
   ]
  },
  {
   "cell_type": "code",
   "execution_count": 17,
   "id": "7b34a259-12ac-48ab-98b0-0607ad8d3972",
   "metadata": {},
   "outputs": [
    {
     "data": {
      "text/plain": [
       "Index(['transaction_date', 'product_id', 'Profit'], dtype='object')"
      ]
     },
     "execution_count": 17,
     "metadata": {},
     "output_type": "execute_result"
    }
   ],
   "source": [
    "# The columns in rfm_table dataframe are not properly named. Renaming of the columns to appropiate name is needed\n",
    "\n",
    "rfm_table.columns"
   ]
  },
  {
   "cell_type": "code",
   "execution_count": 18,
   "id": "a9273591-8134-4e5d-b772-0b35b4f93713",
   "metadata": {},
   "outputs": [],
   "source": [
    "# Renaming column names to appropiate names\n",
    "\n",
    "rfm_table.rename(columns={'transaction_date' : 'recency', \n",
    "                        'product_id' : 'frequency',\n",
    "                        'Profit' : 'monetary'} , inplace=True)"
   ]
  },
  {
   "cell_type": "code",
   "execution_count": 19,
   "id": "1e7abbfe-593c-4b6b-843f-cf1593ba9f97",
   "metadata": {},
   "outputs": [
    {
     "data": {
      "text/plain": [
       "Index(['recency', 'frequency', 'monetary'], dtype='object')"
      ]
     },
     "execution_count": 19,
     "metadata": {},
     "output_type": "execute_result"
    }
   ],
   "source": [
    "# The columns in rfm_table dataframe are not properly named. Renaming of the columns to appropiate name is needed\n",
    "\n",
    "rfm_table.columns"
   ]
  },
  {
   "cell_type": "code",
   "execution_count": 20,
   "id": "91c009a7-0055-4ee6-9118-6977616c6fca",
   "metadata": {},
   "outputs": [],
   "source": [
    "# Renaming column names to appropiate names\n",
    "\n",
    "rfm_table.rename(columns={'transaction_date' : 'recency', \n",
    "                        'product_id' : 'frequency',\n",
    "                        'Profit' : 'monetary'} , inplace=True)"
   ]
  },
  {
   "cell_type": "code",
   "execution_count": 21,
   "id": "e029aede-c9ee-4264-9aa6-5a68972365f5",
   "metadata": {},
   "outputs": [],
   "source": [
    "# Dividing the recency, frequency and monetary into 4 quartiles (min, 25%, 50%, 75% and max).\n",
    "# These values will help us to calculate RFM score for a customer and classify based on their RFM score.\n",
    "\n",
    "rfm_table['r_quartile'] = pd.qcut(rfm_table['recency'], 4, ['4','3','2','1'])\n",
    "rfm_table['f_quartile'] = pd.qcut(rfm_table['frequency'], 4, ['1','2','3','4'])\n",
    "rfm_table['m_quartile'] = pd.qcut(rfm_table['monetary'], 4, ['1','2','3','4'])"
   ]
  },
  {
   "cell_type": "code",
   "execution_count": 22,
   "id": "56d9005f-aec6-4d5d-8cf1-e8e6e9066689",
   "metadata": {},
   "outputs": [
    {
     "data": {
      "text/html": [
       "<div>\n",
       "<style scoped>\n",
       "    .dataframe tbody tr th:only-of-type {\n",
       "        vertical-align: middle;\n",
       "    }\n",
       "\n",
       "    .dataframe tbody tr th {\n",
       "        vertical-align: top;\n",
       "    }\n",
       "\n",
       "    .dataframe thead th {\n",
       "        text-align: right;\n",
       "    }\n",
       "</style>\n",
       "<table border=\"1\" class=\"dataframe\">\n",
       "  <thead>\n",
       "    <tr style=\"text-align: right;\">\n",
       "      <th></th>\n",
       "      <th>recency</th>\n",
       "      <th>frequency</th>\n",
       "      <th>monetary</th>\n",
       "      <th>r_quartile</th>\n",
       "      <th>f_quartile</th>\n",
       "      <th>m_quartile</th>\n",
       "    </tr>\n",
       "    <tr>\n",
       "      <th>customer_id</th>\n",
       "      <th></th>\n",
       "      <th></th>\n",
       "      <th></th>\n",
       "      <th></th>\n",
       "      <th></th>\n",
       "      <th></th>\n",
       "    </tr>\n",
       "  </thead>\n",
       "  <tbody>\n",
       "    <tr>\n",
       "      <th>1</th>\n",
       "      <td>7</td>\n",
       "      <td>11</td>\n",
       "      <td>3018.09</td>\n",
       "      <td>4</td>\n",
       "      <td>4</td>\n",
       "      <td>3</td>\n",
       "    </tr>\n",
       "    <tr>\n",
       "      <th>2</th>\n",
       "      <td>128</td>\n",
       "      <td>3</td>\n",
       "      <td>2226.26</td>\n",
       "      <td>1</td>\n",
       "      <td>1</td>\n",
       "      <td>2</td>\n",
       "    </tr>\n",
       "    <tr>\n",
       "      <th>3</th>\n",
       "      <td>102</td>\n",
       "      <td>8</td>\n",
       "      <td>3362.81</td>\n",
       "      <td>1</td>\n",
       "      <td>4</td>\n",
       "      <td>3</td>\n",
       "    </tr>\n",
       "    <tr>\n",
       "      <th>4</th>\n",
       "      <td>195</td>\n",
       "      <td>2</td>\n",
       "      <td>220.57</td>\n",
       "      <td>1</td>\n",
       "      <td>1</td>\n",
       "      <td>1</td>\n",
       "    </tr>\n",
       "    <tr>\n",
       "      <th>5</th>\n",
       "      <td>16</td>\n",
       "      <td>6</td>\n",
       "      <td>2394.94</td>\n",
       "      <td>4</td>\n",
       "      <td>2</td>\n",
       "      <td>2</td>\n",
       "    </tr>\n",
       "    <tr>\n",
       "      <th>...</th>\n",
       "      <td>...</td>\n",
       "      <td>...</td>\n",
       "      <td>...</td>\n",
       "      <td>...</td>\n",
       "      <td>...</td>\n",
       "      <td>...</td>\n",
       "    </tr>\n",
       "    <tr>\n",
       "      <th>3496</th>\n",
       "      <td>256</td>\n",
       "      <td>4</td>\n",
       "      <td>2045.84</td>\n",
       "      <td>1</td>\n",
       "      <td>1</td>\n",
       "      <td>2</td>\n",
       "    </tr>\n",
       "    <tr>\n",
       "      <th>3497</th>\n",
       "      <td>52</td>\n",
       "      <td>3</td>\n",
       "      <td>1648.32</td>\n",
       "      <td>2</td>\n",
       "      <td>1</td>\n",
       "      <td>1</td>\n",
       "    </tr>\n",
       "    <tr>\n",
       "      <th>3498</th>\n",
       "      <td>127</td>\n",
       "      <td>6</td>\n",
       "      <td>3147.33</td>\n",
       "      <td>1</td>\n",
       "      <td>2</td>\n",
       "      <td>3</td>\n",
       "    </tr>\n",
       "    <tr>\n",
       "      <th>3499</th>\n",
       "      <td>51</td>\n",
       "      <td>7</td>\n",
       "      <td>4955.25</td>\n",
       "      <td>2</td>\n",
       "      <td>3</td>\n",
       "      <td>4</td>\n",
       "    </tr>\n",
       "    <tr>\n",
       "      <th>3500</th>\n",
       "      <td>144</td>\n",
       "      <td>6</td>\n",
       "      <td>1785.86</td>\n",
       "      <td>1</td>\n",
       "      <td>2</td>\n",
       "      <td>1</td>\n",
       "    </tr>\n",
       "  </tbody>\n",
       "</table>\n",
       "<p>3416 rows × 6 columns</p>\n",
       "</div>"
      ],
      "text/plain": [
       "             recency  frequency  monetary r_quartile f_quartile m_quartile\n",
       "customer_id                                                               \n",
       "1                  7         11   3018.09          4          4          3\n",
       "2                128          3   2226.26          1          1          2\n",
       "3                102          8   3362.81          1          4          3\n",
       "4                195          2    220.57          1          1          1\n",
       "5                 16          6   2394.94          4          2          2\n",
       "...              ...        ...       ...        ...        ...        ...\n",
       "3496             256          4   2045.84          1          1          2\n",
       "3497              52          3   1648.32          2          1          1\n",
       "3498             127          6   3147.33          1          2          3\n",
       "3499              51          7   4955.25          2          3          4\n",
       "3500             144          6   1785.86          1          2          1\n",
       "\n",
       "[3416 rows x 6 columns]"
      ]
     },
     "execution_count": 22,
     "metadata": {},
     "output_type": "execute_result"
    }
   ],
   "source": [
    "# RFM_table dataset\n",
    "\n",
    "rfm_table"
   ]
  },
  {
   "cell_type": "code",
   "execution_count": 23,
   "id": "c3be5291-8202-44f5-9606-44a8cffff724",
   "metadata": {},
   "outputs": [],
   "source": [
    "# Caluclation of RFM Score.\n",
    "# Max weightage is given to recency then frequency and then  monetary.\n",
    "\n",
    "rfm_table['rfm_score'] = 100*rfm_table['r_quartile'].astype(int)+10*rfm_table['f_quartile'].astype(int)+rfm_table['m_quartile'].astype(int)"
   ]
  },
  {
   "cell_type": "code",
   "execution_count": 24,
   "id": "18531ebc-e5a8-4d25-b2ff-ca7a646087d8",
   "metadata": {},
   "outputs": [],
   "source": [
    "# Assigning a title to a cuustomer.\n",
    "# Platinum corresponds to highest range of RFM score down to Bronze to lowest range of RFM score.\n",
    "\n",
    "rfm_table['customer_title'] = pd.qcut(rfm_table['rfm_score'], 4, ['Bronze','Silver','Gold','Platinum'])"
   ]
  },
  {
   "cell_type": "code",
   "execution_count": 25,
   "id": "79e86c5e-89e7-4352-a3a3-b78f95ceadc5",
   "metadata": {},
   "outputs": [
    {
     "data": {
      "text/html": [
       "<div>\n",
       "<style scoped>\n",
       "    .dataframe tbody tr th:only-of-type {\n",
       "        vertical-align: middle;\n",
       "    }\n",
       "\n",
       "    .dataframe tbody tr th {\n",
       "        vertical-align: top;\n",
       "    }\n",
       "\n",
       "    .dataframe thead th {\n",
       "        text-align: right;\n",
       "    }\n",
       "</style>\n",
       "<table border=\"1\" class=\"dataframe\">\n",
       "  <thead>\n",
       "    <tr style=\"text-align: right;\">\n",
       "      <th></th>\n",
       "      <th>recency</th>\n",
       "      <th>frequency</th>\n",
       "      <th>monetary</th>\n",
       "      <th>r_quartile</th>\n",
       "      <th>f_quartile</th>\n",
       "      <th>m_quartile</th>\n",
       "      <th>rfm_score</th>\n",
       "      <th>customer_title</th>\n",
       "    </tr>\n",
       "    <tr>\n",
       "      <th>customer_id</th>\n",
       "      <th></th>\n",
       "      <th></th>\n",
       "      <th></th>\n",
       "      <th></th>\n",
       "      <th></th>\n",
       "      <th></th>\n",
       "      <th></th>\n",
       "      <th></th>\n",
       "    </tr>\n",
       "  </thead>\n",
       "  <tbody>\n",
       "    <tr>\n",
       "      <th>1</th>\n",
       "      <td>7</td>\n",
       "      <td>11</td>\n",
       "      <td>3018.09</td>\n",
       "      <td>4</td>\n",
       "      <td>4</td>\n",
       "      <td>3</td>\n",
       "      <td>443</td>\n",
       "      <td>Platinum</td>\n",
       "    </tr>\n",
       "    <tr>\n",
       "      <th>2</th>\n",
       "      <td>128</td>\n",
       "      <td>3</td>\n",
       "      <td>2226.26</td>\n",
       "      <td>1</td>\n",
       "      <td>1</td>\n",
       "      <td>2</td>\n",
       "      <td>112</td>\n",
       "      <td>Bronze</td>\n",
       "    </tr>\n",
       "    <tr>\n",
       "      <th>3</th>\n",
       "      <td>102</td>\n",
       "      <td>8</td>\n",
       "      <td>3362.81</td>\n",
       "      <td>1</td>\n",
       "      <td>4</td>\n",
       "      <td>3</td>\n",
       "      <td>143</td>\n",
       "      <td>Bronze</td>\n",
       "    </tr>\n",
       "    <tr>\n",
       "      <th>4</th>\n",
       "      <td>195</td>\n",
       "      <td>2</td>\n",
       "      <td>220.57</td>\n",
       "      <td>1</td>\n",
       "      <td>1</td>\n",
       "      <td>1</td>\n",
       "      <td>111</td>\n",
       "      <td>Bronze</td>\n",
       "    </tr>\n",
       "    <tr>\n",
       "      <th>5</th>\n",
       "      <td>16</td>\n",
       "      <td>6</td>\n",
       "      <td>2394.94</td>\n",
       "      <td>4</td>\n",
       "      <td>2</td>\n",
       "      <td>2</td>\n",
       "      <td>422</td>\n",
       "      <td>Platinum</td>\n",
       "    </tr>\n",
       "    <tr>\n",
       "      <th>...</th>\n",
       "      <td>...</td>\n",
       "      <td>...</td>\n",
       "      <td>...</td>\n",
       "      <td>...</td>\n",
       "      <td>...</td>\n",
       "      <td>...</td>\n",
       "      <td>...</td>\n",
       "      <td>...</td>\n",
       "    </tr>\n",
       "    <tr>\n",
       "      <th>3496</th>\n",
       "      <td>256</td>\n",
       "      <td>4</td>\n",
       "      <td>2045.84</td>\n",
       "      <td>1</td>\n",
       "      <td>1</td>\n",
       "      <td>2</td>\n",
       "      <td>112</td>\n",
       "      <td>Bronze</td>\n",
       "    </tr>\n",
       "    <tr>\n",
       "      <th>3497</th>\n",
       "      <td>52</td>\n",
       "      <td>3</td>\n",
       "      <td>1648.32</td>\n",
       "      <td>2</td>\n",
       "      <td>1</td>\n",
       "      <td>1</td>\n",
       "      <td>211</td>\n",
       "      <td>Bronze</td>\n",
       "    </tr>\n",
       "    <tr>\n",
       "      <th>3498</th>\n",
       "      <td>127</td>\n",
       "      <td>6</td>\n",
       "      <td>3147.33</td>\n",
       "      <td>1</td>\n",
       "      <td>2</td>\n",
       "      <td>3</td>\n",
       "      <td>123</td>\n",
       "      <td>Bronze</td>\n",
       "    </tr>\n",
       "    <tr>\n",
       "      <th>3499</th>\n",
       "      <td>51</td>\n",
       "      <td>7</td>\n",
       "      <td>4955.25</td>\n",
       "      <td>2</td>\n",
       "      <td>3</td>\n",
       "      <td>4</td>\n",
       "      <td>234</td>\n",
       "      <td>Silver</td>\n",
       "    </tr>\n",
       "    <tr>\n",
       "      <th>3500</th>\n",
       "      <td>144</td>\n",
       "      <td>6</td>\n",
       "      <td>1785.86</td>\n",
       "      <td>1</td>\n",
       "      <td>2</td>\n",
       "      <td>1</td>\n",
       "      <td>121</td>\n",
       "      <td>Bronze</td>\n",
       "    </tr>\n",
       "  </tbody>\n",
       "</table>\n",
       "<p>3416 rows × 8 columns</p>\n",
       "</div>"
      ],
      "text/plain": [
       "             recency  frequency  monetary r_quartile f_quartile m_quartile  \\\n",
       "customer_id                                                                  \n",
       "1                  7         11   3018.09          4          4          3   \n",
       "2                128          3   2226.26          1          1          2   \n",
       "3                102          8   3362.81          1          4          3   \n",
       "4                195          2    220.57          1          1          1   \n",
       "5                 16          6   2394.94          4          2          2   \n",
       "...              ...        ...       ...        ...        ...        ...   \n",
       "3496             256          4   2045.84          1          1          2   \n",
       "3497              52          3   1648.32          2          1          1   \n",
       "3498             127          6   3147.33          1          2          3   \n",
       "3499              51          7   4955.25          2          3          4   \n",
       "3500             144          6   1785.86          1          2          1   \n",
       "\n",
       "             rfm_score customer_title  \n",
       "customer_id                            \n",
       "1                  443       Platinum  \n",
       "2                  112         Bronze  \n",
       "3                  143         Bronze  \n",
       "4                  111         Bronze  \n",
       "5                  422       Platinum  \n",
       "...                ...            ...  \n",
       "3496               112         Bronze  \n",
       "3497               211         Bronze  \n",
       "3498               123         Bronze  \n",
       "3499               234         Silver  \n",
       "3500               121         Bronze  \n",
       "\n",
       "[3416 rows x 8 columns]"
      ]
     },
     "execution_count": 25,
     "metadata": {},
     "output_type": "execute_result"
    }
   ],
   "source": [
    "# RFM table dataset\n",
    "\n",
    "rfm_table\n"
   ]
  },
  {
   "cell_type": "markdown",
   "id": "add8b2f1-0040-4152-b1f5-8632d5181a4c",
   "metadata": {},
   "source": [
    "## Merging both RFM Table with Transaction and Customer Tables"
   ]
  },
  {
   "cell_type": "markdown",
   "id": "6376c0b6-3f02-4a2c-a8e3-fa10aafafa86",
   "metadata": {},
   "source": [
    "The RFM_Table dataframe is merged with the Transactions and Customer Demographics datasets, to gain depper insights of Customer Segemnts along with transactions. The dataframes are joined based on customer_ids from both the datasets"
   ]
  },
  {
   "cell_type": "code",
   "execution_count": 26,
   "id": "0e1e1ae7-c3ed-4d41-9422-d8518c1ffbac",
   "metadata": {},
   "outputs": [],
   "source": [
    "cust_trans_rfm = pd.merge(merged_trans_cust, rfm_table, left_on='customer_id', right_on='customer_id', how='inner')"
   ]
  },
  {
   "cell_type": "code",
   "execution_count": 27,
   "id": "32f4bdd6-640e-46d9-b94f-670af74643ee",
   "metadata": {},
   "outputs": [
    {
     "name": "stdout",
     "output_type": "stream",
     "text": [
      "<class 'pandas.core.frame.DataFrame'>\n",
      "RangeIndex: 19354 entries, 0 to 19353\n",
      "Data columns (total 34 columns):\n",
      " #   Column                               Non-Null Count  Dtype         \n",
      "---  ------                               --------------  -----         \n",
      " 0   transaction_id                       19354 non-null  int64         \n",
      " 1   product_id                           19354 non-null  int64         \n",
      " 2   customer_id                          19354 non-null  int64         \n",
      " 3   transaction_date                     19354 non-null  datetime64[ns]\n",
      " 4   online_order                         19354 non-null  float64       \n",
      " 5   order_status                         19354 non-null  object        \n",
      " 6   brand                                19354 non-null  object        \n",
      " 7   product_line                         19354 non-null  object        \n",
      " 8   product_class                        19354 non-null  object        \n",
      " 9   product_size                         19354 non-null  object        \n",
      " 10  list_price                           19354 non-null  float64       \n",
      " 11  standard_cost                        19354 non-null  float64       \n",
      " 12  product_first_sold_date              19354 non-null  float64       \n",
      " 13  Profit                               19354 non-null  float64       \n",
      " 14  first_name                           19354 non-null  object        \n",
      " 15  last_name                            18732 non-null  object        \n",
      " 16  gender                               19354 non-null  object        \n",
      " 17  past_3_years_bike_related_purchases  19354 non-null  int64         \n",
      " 18  DOB                                  19354 non-null  object        \n",
      " 19  job_title                            19354 non-null  object        \n",
      " 20  job_industry_category                19354 non-null  object        \n",
      " 21  wealth_segment                       19354 non-null  object        \n",
      " 22  deceased_indicator                   19354 non-null  object        \n",
      " 23  owns_car                             19354 non-null  object        \n",
      " 24  tenure                               19354 non-null  float64       \n",
      " 25  Age                                  19354 non-null  int64         \n",
      " 26  recency                              19354 non-null  int64         \n",
      " 27  frequency                            19354 non-null  int64         \n",
      " 28  monetary                             19354 non-null  float64       \n",
      " 29  r_quartile                           19354 non-null  category      \n",
      " 30  f_quartile                           19354 non-null  category      \n",
      " 31  m_quartile                           19354 non-null  category      \n",
      " 32  rfm_score                            19354 non-null  int32         \n",
      " 33  customer_title                       19354 non-null  category      \n",
      "dtypes: category(4), datetime64[ns](1), float64(7), int32(1), int64(7), object(14)\n",
      "memory usage: 4.4+ MB\n"
     ]
    }
   ],
   "source": [
    "cust_trans_rfm.info()"
   ]
  },
  {
   "cell_type": "markdown",
   "id": "c9743ff4-e7a6-4535-9a64-f7baf758295a",
   "metadata": {
    "jp-MarkdownHeadingCollapsed": true
   },
   "source": [
    " The datatypes of the columns looks fine."
   ]
  },
  {
   "cell_type": "markdown",
   "id": "b3ef33c8-7840-401c-993d-c0eba037e50a",
   "metadata": {},
   "source": [
    "### Creating an Age Group Feature3"
   ]
  },
  {
   "cell_type": "code",
   "execution_count": 28,
   "id": "2fe05d04-39bc-4b81-8146-30f0cf8a1411",
   "metadata": {},
   "outputs": [],
   "source": [
    "cust_trans_rfm['Age_Group'] = cust_trans_rfm['Age'].apply(lambda x : (math.floor(x/10)+1)*10)"
   ]
  },
  {
   "cell_type": "markdown",
   "id": "fb444f7b-0d4f-44a5-866e-bb71bcde2c5d",
   "metadata": {},
   "source": [
    "### Creating a Detail Customer title / tag based on RFM Score"
   ]
  },
  {
   "cell_type": "markdown",
   "id": "21375379-b504-4af3-a2c7-558f7667f6ea",
   "metadata": {},
   "source": [
    "An extended version of customer title is made which divides the entire number of customers into 11 groups. The groups are mainly Platinum Customers, Very Loyal, Becoming Loyal, Recent Customers, Potential Customers, Late Bloomer, Loosing Customers, High Risk Customers, Almost Lost Customers, Evasive Customers and Lost Customers.\n",
    "The demarkation of customers into the above mentioned groups is based on their RFM scores."
   ]
  },
  {
   "cell_type": "code",
   "execution_count": 29,
   "id": "fcda18ba-b78d-4740-aff9-b53919032ad5",
   "metadata": {},
   "outputs": [],
   "source": [
    "# Function as a lookup to appropiate customer titles based on RFM score.\n",
    "\n",
    "def cust_score_title_lkup(cols):\n",
    "    \n",
    "    rfm_score = cols[0]\n",
    "    \n",
    "    if rfm_score >= 444:\n",
    "        return 'Platinum Customer'\n",
    "    elif rfm_score >=433 and rfm_score < 444:\n",
    "        return 'Very Loyal'\n",
    "    elif rfm_score >=421 and rfm_score < 433:\n",
    "        return 'Becoming Loyal'\n",
    "    elif rfm_score >=344 and rfm_score < 421:\n",
    "        return 'Recent Customer'\n",
    "    elif rfm_score >=323 and rfm_score < 344:\n",
    "        return 'Potential Customer'\n",
    "    elif rfm_score >=311 and rfm_score < 323:\n",
    "        return 'Late Bloomer'\n",
    "    elif rfm_score >=224 and rfm_score < 311:\n",
    "        return 'Loosing Customer'\n",
    "    elif rfm_score >=212 and rfm_score < 224:\n",
    "        return 'High Risk Customer'\n",
    "    elif rfm_score >=124 and rfm_score < 212:\n",
    "        return 'Almost Lost Customer'\n",
    "    elif rfm_score >=112 and rfm_score < 124:\n",
    "        return 'Evasive Customer'\n",
    "    else :\n",
    "        return 'Lost Customer'"
   ]
  },
  {
   "cell_type": "code",
   "execution_count": 30,
   "id": "69ffa770-a29c-47bc-9ad5-8c6781abaca5",
   "metadata": {},
   "outputs": [
    {
     "name": "stderr",
     "output_type": "stream",
     "text": [
      "C:\\Users\\hp\\AppData\\Local\\Temp\\ipykernel_16372\\1375572388.py:5: FutureWarning: Series.__getitem__ treating keys as positions is deprecated. In a future version, integer keys will always be treated as labels (consistent with DataFrame behavior). To access a value by position, use `ser.iloc[pos]`\n",
      "  rfm_score = cols[0]\n"
     ]
    }
   ],
   "source": [
    "# Applying the above functions and creating a new feature detail_cust_title\n",
    "\n",
    "cust_trans_rfm['detail_cust_title']=cust_trans_rfm[['rfm_score']].apply(cust_score_title_lkup, axis=1)"
   ]
  },
  {
   "cell_type": "code",
   "execution_count": 31,
   "id": "ac58bb8d-5db1-4d02-82f2-8ff40a80f781",
   "metadata": {},
   "outputs": [],
   "source": [
    "# Function to provide ranks to the customers based on their title.\n",
    "\n",
    "def get_rank(cols):\n",
    "    \n",
    "    title = cols[0]\n",
    "    \n",
    "    if title=='Platinum Customer':\n",
    "        return 1\n",
    "    elif title=='Very Loyal':\n",
    "        return 2\n",
    "    elif title == 'Becoming Loyal':\n",
    "        return 3\n",
    "    elif title == 'Recent Customer':\n",
    "        return 4\n",
    "    elif title=='Potential Customer':\n",
    "        return 5\n",
    "    elif title == 'Late Bloomer':\n",
    "        return 6\n",
    "    elif title == 'Loosing Customer':\n",
    "        return 7\n",
    "    elif title=='High Risk Customer':\n",
    "        return 8\n",
    "    elif title == 'Almost Lost Customer':\n",
    "        return 9\n",
    "    elif title == 'Evasive Customer':\n",
    "        return 10\n",
    "    else :\n",
    "        return 11"
   ]
  },
  {
   "cell_type": "code",
   "execution_count": 32,
   "id": "d9066c05-c9e6-4d3e-a62c-911530ffccad",
   "metadata": {},
   "outputs": [
    {
     "name": "stderr",
     "output_type": "stream",
     "text": [
      "C:\\Users\\hp\\AppData\\Local\\Temp\\ipykernel_16372\\782112168.py:5: FutureWarning: Series.__getitem__ treating keys as positions is deprecated. In a future version, integer keys will always be treated as labels (consistent with DataFrame behavior). To access a value by position, use `ser.iloc[pos]`\n",
      "  title = cols[0]\n"
     ]
    }
   ],
   "source": [
    "# Applying the above functions and creating a new feature rank\n",
    "\n",
    "cust_trans_rfm['rank']=cust_trans_rfm[['detail_cust_title']].apply(get_rank, axis=1)"
   ]
  },
  {
   "cell_type": "markdown",
   "id": "b544f06f-e2b6-421c-ba69-57dcd5b815d8",
   "metadata": {},
   "source": [
    "## Exporting to CSV File"
   ]
  },
  {
   "cell_type": "markdown",
   "id": "2a267df5-5104-4500-95ff-b86b71f6a57d",
   "metadata": {},
   "source": [
    "After performing data quality assessment(DQA), data cleaning and RFM Analysis on the dataset, it's time to export the dataset to a csv file for further exploratory data analysis (EDA) and this data will drive the Sales Customer Segmenation Dashboard developed in Tableau."
   ]
  },
  {
   "cell_type": "code",
   "execution_count": 33,
   "id": "f7e7a22f-7aaf-4112-8fa8-95f478cca488",
   "metadata": {},
   "outputs": [],
   "source": [
    "cust_trans_rfm.to_csv('Customer_Trans_RFM_Analysis.csv', index=False)"
   ]
  },
  {
   "cell_type": "code",
   "execution_count": 34,
   "id": "ff78decc-a98d-4584-97d9-621d649855cb",
   "metadata": {},
   "outputs": [
    {
     "name": "stdout",
     "output_type": "stream",
     "text": [
      "Total records in final dataset : 19354\n"
     ]
    }
   ],
   "source": [
    "print(\"Total records in final dataset : {}\".format(cust_trans_rfm.shape[0]))"
   ]
  },
  {
   "cell_type": "markdown",
   "id": "a9148731-4a6b-49de-96d2-ec3371a7a22a",
   "metadata": {},
   "source": [
    "## Data Analysis and Exploration"
   ]
  },
  {
   "cell_type": "markdown",
   "id": "dc3d6a5f-460b-42d8-8850-a8bb8324fee4",
   "metadata": {},
   "source": [
    "### 1. New Customer vs Old Customer Age Distributions"
   ]
  },
  {
   "cell_type": "markdown",
   "id": "381e1c08-d926-4877-9ced-585292ae8a9a",
   "metadata": {},
   "source": [
    "Most New / Old Customers are aged between 40-49. The lowest age groups are under 20 and 80+ for both Old and New Customers dataset.\n",
    "Among the New Customers the most populated age bracket is 20-29 and 60-69, while the maximum Old Customers are from the age bracket 50-69.\n",
    "There is a steep drop in number of customers in 30-39 age groupsd among the New Customers."
   ]
  },
  {
   "cell_type": "code",
   "execution_count": 35,
   "id": "6512a261-a987-4aba-98a7-9eb770cdf0ab",
   "metadata": {},
   "outputs": [],
   "source": [
    "# Loading the New Customers Dataset\n",
    "\n",
    "new_cust = pd.read_csv('NewCustomerList_Cleaned.csv')"
   ]
  },
  {
   "cell_type": "code",
   "execution_count": 38,
   "id": "05be3ae4-7ada-45df-a4cd-47a3359feeee",
   "metadata": {},
   "outputs": [
    {
     "name": "stderr",
     "output_type": "stream",
     "text": [
      "C:\\Users\\hp\\anaconda3\\Lib\\site-packages\\seaborn\\_oldcore.py:1119: FutureWarning: use_inf_as_na option is deprecated and will be removed in a future version. Convert inf values to NaN before operating instead.\n",
      "  with pd.option_context('mode.use_inf_as_na', True):\n"
     ]
    },
    {
     "data": {
      "text/plain": [
       "<Figure size 1000x800 with 0 Axes>"
      ]
     },
     "metadata": {},
     "output_type": "display_data"
    },
    {
     "data": {
      "image/png": "[encoded data removed]",
      "text/plain": [
       "<Figure size 500x500 with 1 Axes>"
      ]
     },
     "metadata": {},
     "output_type": "display_data"
    }
   ],
   "source": [
    "plt.figure(figsize=(10,8))\n",
    "sns.displot(new_cust['Age Group'], kde=False, bins=15)\n",
    "plt.xlabel('Age Group')\n",
    "plt.ylabel('Number of Customers')\n",
    "plt.title('New Customers - Age Distribution')\n",
    "pd.option_context('mode.use_inf_as_na', True)\n",
    "\n",
    "plt.show()"
   ]
  },
  {
   "cell_type": "markdown",
   "id": "a6def994-94b2-4de7-8092-db2ba7aa171d",
   "metadata": {},
   "source": [
    "Here 20 = under 20, 30 = 20-29 age bracket"
   ]
  },
  {
   "cell_type": "code",
   "execution_count": 40,
   "id": "2a912236-6f2f-4f78-b6e4-334b119f62a5",
   "metadata": {},
   "outputs": [
    {
     "name": "stderr",
     "output_type": "stream",
     "text": [
      "C:\\Users\\hp\\anaconda3\\Lib\\site-packages\\seaborn\\_oldcore.py:1119: FutureWarning: use_inf_as_na option is deprecated and will be removed in a future version. Convert inf values to NaN before operating instead.\n",
      "  with pd.option_context('mode.use_inf_as_na', True):\n"
     ]
    },
    {
     "data": {
      "text/plain": [
       "<Figure size 1000x800 with 0 Axes>"
      ]
     },
     "metadata": {},
     "output_type": "display_data"
    },
    {
     "data": {
      "image/png": "[encoded data removed]",
      "text/plain": [
       "<Figure size 500x500 with 1 Axes>"
      ]
     },
     "metadata": {},
     "output_type": "display_data"
    }
   ],
   "source": [
    "plt.figure(figsize=(10,8))\n",
    "sns.displot(cust_trans_rfm['Age_Group'], kde=False, bins=15)\n",
    "plt.xlabel('Age Group')\n",
    "plt.ylabel('Number of Customers')\n",
    "plt.title('Old Customers - Age Distribution')\n",
    "\n",
    "plt.show()"
   ]
  },
  {
   "cell_type": "markdown",
   "id": "c67feef5-a1b8-4208-bfba-c564f6fd4006",
   "metadata": {},
   "source": [
    "Here 20 = under 20, 30 = 20-29 age bracket"
   ]
  },
  {
   "cell_type": "markdown",
   "id": "61b8eba7-d6b4-41b9-95c8-e0e1fef8e4e8",
   "metadata": {},
   "source": [
    "### 2. Bike related purchases over last 3 years by gender"
   ]
  },
  {
   "cell_type": "markdown",
   "id": "b5dbada3-2c8e-4ccc-b7df-9813cc09d0b1",
   "metadata": {},
   "source": [
    "Over the last 3 years approximately 51% of the buyers are women and 49% were male buyers.\n",
    "Female purchases are approximately 10,000 more than male (numerically). Gender wise majority of the bike sales comes from female customers."
   ]
  },
  {
   "cell_type": "code",
   "execution_count": 42,
   "id": "bda55ba8-afe3-48e1-9a2d-b3eeaf1e9ace",
   "metadata": {},
   "outputs": [],
   "source": [
    "cust_bike_purchase_by_gender = cust_trans_rfm.groupby('gender').agg({'past_3_years_bike_related_purchases' : 'sum'}\n",
    "                                                                 ).reset_index()"
   ]
  },
  {
   "cell_type": "code",
   "execution_count": 43,
   "id": "ad3fe995-aca3-4cee-bee9-f42deeff1452",
   "metadata": {},
   "outputs": [],
   "source": [
    "total_records = cust_trans_rfm['past_3_years_bike_related_purchases'].sum()"
   ]
  },
  {
   "cell_type": "code",
   "execution_count": 44,
   "id": "0f6acc15-01ff-4647-82d5-77f748e14fad",
   "metadata": {},
   "outputs": [],
   "source": [
    "cust_bike_purchase_by_gender['Percent_of_total'] = (cust_bike_purchase_by_gender['past_3_years_bike_related_purchases']\n",
    "                                                        /total_records)*100"
   ]
  },
  {
   "cell_type": "code",
   "execution_count": 45,
   "id": "cc22a5c4-747f-4cf2-a4fd-f083a2b654f9",
   "metadata": {
    "jp-MarkdownHeadingCollapsed": true
   },
   "outputs": [
    {
     "data": {
      "text/html": [
       "<div>\n",
       "<style scoped>\n",
       "    .dataframe tbody tr th:only-of-type {\n",
       "        vertical-align: middle;\n",
       "    }\n",
       "\n",
       "    .dataframe tbody tr th {\n",
       "        vertical-align: top;\n",
       "    }\n",
       "\n",
       "    .dataframe thead th {\n",
       "        text-align: right;\n",
       "    }\n",
       "</style>\n",
       "<table border=\"1\" class=\"dataframe\">\n",
       "  <thead>\n",
       "    <tr style=\"text-align: right;\">\n",
       "      <th></th>\n",
       "      <th>gender</th>\n",
       "      <th>past_3_years_bike_related_purchases</th>\n",
       "      <th>Percent_of_total</th>\n",
       "    </tr>\n",
       "  </thead>\n",
       "  <tbody>\n",
       "    <tr>\n",
       "      <th>0</th>\n",
       "      <td>Female</td>\n",
       "      <td>478488</td>\n",
       "      <td>50.503731</td>\n",
       "    </tr>\n",
       "    <tr>\n",
       "      <th>1</th>\n",
       "      <td>Male</td>\n",
       "      <td>468943</td>\n",
       "      <td>49.496269</td>\n",
       "    </tr>\n",
       "  </tbody>\n",
       "</table>\n",
       "</div>"
      ],
      "text/plain": [
       "   gender  past_3_years_bike_related_purchases  Percent_of_total\n",
       "0  Female                               478488         50.503731\n",
       "1    Male                               468943         49.496269"
      ]
     },
     "execution_count": 45,
     "metadata": {},
     "output_type": "execute_result"
    }
   ],
   "source": [
    " cust_bike_purchase_by_gender"
   ]
  },
  {
   "cell_type": "code",
   "execution_count": 46,
   "id": "222687a0-f66c-4e61-a4a3-553ccd3deaa4",
   "metadata": {},
   "outputs": [
    {
     "data": {
      "image/png": "[encoded data removed]",
      "text/plain": [
       "<Figure size 800x500 with 1 Axes>"
      ]
     },
     "metadata": {},
     "output_type": "display_data"
    }
   ],
   "source": [
    "plt.figure(figsize=(8,5))\n",
    "sns.barplot(x='gender',y='Percent_of_total',data=cust_bike_purchase_by_gender)\n",
    "plt.xlabel('Gender')\n",
    "plt.ylabel('Percent of Total Purchases')\n",
    "plt.title('Female vs Male past 3 years Bike purchases')\n",
    "\n",
    "plt.show()\n"
   ]
  },
  {
   "cell_type": "markdown",
   "id": "58a1bb18-6890-4c17-a6d8-bac1802be957",
   "metadata": {},
   "source": [
    "### 3. Job Industry Customer Distribution"
   ]
  },
  {
   "cell_type": "markdown",
   "id": "b28bf3aa-42a8-487b-9c6e-84c64eaf2c6a",
   "metadata": {},
   "source": [
    "Among the New Customers the highest amount of sales comes from customers having a job in Manufacturing and Financial services sector. The samllest chunk of sales comes from customers in Agriculture sector and from Telecom sector with 3% sales only. Similar trend is observed among Old Customers."
   ]
  },
  {
   "cell_type": "code",
   "execution_count": 48,
   "id": "90fe5dc2-1536-4b2c-a698-baf564694010",
   "metadata": {},
   "outputs": [
    {
     "data": {
      "image/png": "[encoded data removed]",
      "text/plain": [
       "<Figure size 1500x800 with 1 Axes>"
      ]
     },
     "metadata": {},
     "output_type": "display_data"
    }
   ],
   "source": [
    "plt.figure(figsize=(15,8))\n",
    "sns.countplot(x='job_industry_category',data=new_cust[~(new_cust['job_industry_category']=='Missing')])\n",
    "plt.xlabel('Job Industry')\n",
    "plt.ylabel('Number of Customers')\n",
    "plt.title('New Customers - Job Industry Customer Distribution')\n",
    "\n",
    "plt.show()"
   ]
  },
  {
   "cell_type": "code",
   "execution_count": 49,
   "id": "e13b77de-924d-4b34-92b6-f74c464d5e96",
   "metadata": {},
   "outputs": [
    {
     "data": {
      "image/png": "[encoded data removed]",
      "text/plain": [
       "<Figure size 1500x800 with 1 Axes>"
      ]
     },
     "metadata": {},
     "output_type": "display_data"
    }
   ],
   "source": [
    "plt.figure(figsize=(15,8))\n",
    "sns.countplot(x='job_industry_category',data=cust_trans_rfm[~(cust_trans_rfm['job_industry_category']=='Missing')])\n",
    "plt.xlabel('Job Industry')\n",
    "plt.ylabel('Number of Customers')\n",
    "plt.title('Old Customers - Job Industry Customer Distribution')\n",
    "\n",
    "plt.show()"
   ]
  },
  {
   "cell_type": "markdown",
   "id": "0071dcf7-21ab-457d-a459-ce9a6ff4abb3",
   "metadata": {},
   "source": [
    "### 4. Wealth Segmentation by Age Group"
   ]
  },
  {
   "cell_type": "markdown",
   "id": "3e1ab65a-396f-4059-a009-d3157b7c0e26",
   "metadata": {},
   "source": [
    "Across all Age Groups the maximum number of customers are classified as 'Mass Customers'. The next being 'High Net Worth'. However among 40-49 aged customers 'Affluent Customers' outperforms the 'High Net Worth' customers."
   ]
  },
  {
   "cell_type": "markdown",
   "id": "968d5d74-7c42-40bd-aaa9-94595db288f1",
   "metadata": {},
   "source": [
    "#### New Customers"
   ]
  },
  {
   "cell_type": "code",
   "execution_count": 50,
   "id": "c3bbfe46-8249-4ddb-a28d-41f9ebdbf9e6",
   "metadata": {},
   "outputs": [],
   "source": [
    "wealth_age_seg_new = new_cust.groupby(['wealth_segment', 'Age Group']).size().reset_index()\n"
   ]
  },
  {
   "cell_type": "code",
   "execution_count": 51,
   "id": "77e8c73b-157b-4685-a5bb-635cba9dac3e",
   "metadata": {},
   "outputs": [
    {
     "data": {
      "text/html": [
       "<div>\n",
       "<style scoped>\n",
       "    .dataframe tbody tr th:only-of-type {\n",
       "        vertical-align: middle;\n",
       "    }\n",
       "\n",
       "    .dataframe tbody tr th {\n",
       "        vertical-align: top;\n",
       "    }\n",
       "\n",
       "    .dataframe thead th {\n",
       "        text-align: right;\n",
       "    }\n",
       "</style>\n",
       "<table border=\"1\" class=\"dataframe\">\n",
       "  <thead>\n",
       "    <tr style=\"text-align: right;\">\n",
       "      <th></th>\n",
       "      <th>wealth_segment</th>\n",
       "      <th>Age Group</th>\n",
       "      <th>Number of Customers</th>\n",
       "    </tr>\n",
       "  </thead>\n",
       "  <tbody>\n",
       "    <tr>\n",
       "      <th>0</th>\n",
       "      <td>Affluent Customer</td>\n",
       "      <td>30</td>\n",
       "      <td>38</td>\n",
       "    </tr>\n",
       "    <tr>\n",
       "      <th>1</th>\n",
       "      <td>Affluent Customer</td>\n",
       "      <td>40</td>\n",
       "      <td>23</td>\n",
       "    </tr>\n",
       "    <tr>\n",
       "      <th>2</th>\n",
       "      <td>Affluent Customer</td>\n",
       "      <td>50</td>\n",
       "      <td>50</td>\n",
       "    </tr>\n",
       "    <tr>\n",
       "      <th>3</th>\n",
       "      <td>Affluent Customer</td>\n",
       "      <td>60</td>\n",
       "      <td>46</td>\n",
       "    </tr>\n",
       "    <tr>\n",
       "      <th>4</th>\n",
       "      <td>Affluent Customer</td>\n",
       "      <td>70</td>\n",
       "      <td>34</td>\n",
       "    </tr>\n",
       "    <tr>\n",
       "      <th>5</th>\n",
       "      <td>Affluent Customer</td>\n",
       "      <td>80</td>\n",
       "      <td>31</td>\n",
       "    </tr>\n",
       "    <tr>\n",
       "      <th>6</th>\n",
       "      <td>Affluent Customer</td>\n",
       "      <td>90</td>\n",
       "      <td>13</td>\n",
       "    </tr>\n",
       "    <tr>\n",
       "      <th>7</th>\n",
       "      <td>High Net Worth</td>\n",
       "      <td>30</td>\n",
       "      <td>26</td>\n",
       "    </tr>\n",
       "    <tr>\n",
       "      <th>8</th>\n",
       "      <td>High Net Worth</td>\n",
       "      <td>40</td>\n",
       "      <td>38</td>\n",
       "    </tr>\n",
       "    <tr>\n",
       "      <th>9</th>\n",
       "      <td>High Net Worth</td>\n",
       "      <td>50</td>\n",
       "      <td>51</td>\n",
       "    </tr>\n",
       "    <tr>\n",
       "      <th>10</th>\n",
       "      <td>High Net Worth</td>\n",
       "      <td>60</td>\n",
       "      <td>37</td>\n",
       "    </tr>\n",
       "    <tr>\n",
       "      <th>11</th>\n",
       "      <td>High Net Worth</td>\n",
       "      <td>70</td>\n",
       "      <td>49</td>\n",
       "    </tr>\n",
       "    <tr>\n",
       "      <th>12</th>\n",
       "      <td>High Net Worth</td>\n",
       "      <td>80</td>\n",
       "      <td>31</td>\n",
       "    </tr>\n",
       "    <tr>\n",
       "      <th>13</th>\n",
       "      <td>High Net Worth</td>\n",
       "      <td>90</td>\n",
       "      <td>17</td>\n",
       "    </tr>\n",
       "    <tr>\n",
       "      <th>14</th>\n",
       "      <td>Mass Customer</td>\n",
       "      <td>30</td>\n",
       "      <td>60</td>\n",
       "    </tr>\n",
       "    <tr>\n",
       "      <th>15</th>\n",
       "      <td>Mass Customer</td>\n",
       "      <td>40</td>\n",
       "      <td>56</td>\n",
       "    </tr>\n",
       "    <tr>\n",
       "      <th>16</th>\n",
       "      <td>Mass Customer</td>\n",
       "      <td>50</td>\n",
       "      <td>100</td>\n",
       "    </tr>\n",
       "    <tr>\n",
       "      <th>17</th>\n",
       "      <td>Mass Customer</td>\n",
       "      <td>60</td>\n",
       "      <td>101</td>\n",
       "    </tr>\n",
       "    <tr>\n",
       "      <th>18</th>\n",
       "      <td>Mass Customer</td>\n",
       "      <td>70</td>\n",
       "      <td>92</td>\n",
       "    </tr>\n",
       "    <tr>\n",
       "      <th>19</th>\n",
       "      <td>Mass Customer</td>\n",
       "      <td>80</td>\n",
       "      <td>55</td>\n",
       "    </tr>\n",
       "    <tr>\n",
       "      <th>20</th>\n",
       "      <td>Mass Customer</td>\n",
       "      <td>90</td>\n",
       "      <td>35</td>\n",
       "    </tr>\n",
       "  </tbody>\n",
       "</table>\n",
       "</div>"
      ],
      "text/plain": [
       "       wealth_segment  Age Group  Number of Customers\n",
       "0   Affluent Customer         30                   38\n",
       "1   Affluent Customer         40                   23\n",
       "2   Affluent Customer         50                   50\n",
       "3   Affluent Customer         60                   46\n",
       "4   Affluent Customer         70                   34\n",
       "5   Affluent Customer         80                   31\n",
       "6   Affluent Customer         90                   13\n",
       "7      High Net Worth         30                   26\n",
       "8      High Net Worth         40                   38\n",
       "9      High Net Worth         50                   51\n",
       "10     High Net Worth         60                   37\n",
       "11     High Net Worth         70                   49\n",
       "12     High Net Worth         80                   31\n",
       "13     High Net Worth         90                   17\n",
       "14      Mass Customer         30                   60\n",
       "15      Mass Customer         40                   56\n",
       "16      Mass Customer         50                  100\n",
       "17      Mass Customer         60                  101\n",
       "18      Mass Customer         70                   92\n",
       "19      Mass Customer         80                   55\n",
       "20      Mass Customer         90                   35"
      ]
     },
     "execution_count": 51,
     "metadata": {},
     "output_type": "execute_result"
    }
   ],
   "source": [
    "wealth_age_seg_new.rename(columns={0:'Number of Customers'}, inplace=True)\n",
    "wealth_age_seg_new"
   ]
  },
  {
   "cell_type": "code",
   "execution_count": 52,
   "id": "4b1fbf01-2b5a-4071-a347-cfc38957685c",
   "metadata": {},
   "outputs": [
    {
     "data": {
      "image/png": "[encoded data removed]",
      "text/plain": [
       "<Figure size 1500x800 with 1 Axes>"
      ]
     },
     "metadata": {},
     "output_type": "display_data"
    }
   ],
   "source": [
    "plt.figure(figsize=(15,8))\n",
    "sns.barplot(x='Age Group', y='Number of Customers' , hue='wealth_segment', data=wealth_age_seg_new)\n",
    "plt.xlabel('Age Group')\n",
    "plt.ylabel('Number of Customers')\n",
    "plt.title('New Customers - Wealth Segmentation by Age Group')\n",
    "plt.show()\n"
   ]
  },
  {
   "cell_type": "markdown",
   "id": "edc66b59-b7e8-4c27-97bb-97278318b6ad",
   "metadata": {},
   "source": [
    "In all the age groups the most number of customers are 'Mass Customers'. The 2nd largest customer base being the 'High Net Worth' group.\n",
    "In the age group 40-49 the 'Affluent Customer' group outperforms 'High Net Worth' group"
   ]
  },
  {
   "cell_type": "markdown",
   "id": "8691f22e-ef0f-46ff-89c1-a3e6be554227",
   "metadata": {},
   "source": [
    "#### Old Customers"
   ]
  },
  {
   "cell_type": "markdown",
   "id": "58baef99-b686-4001-b9ec-3b1045312213",
   "metadata": {},
   "source": [
    "Similar treand (like that of New Customers) is observed among Old Customers"
   ]
  },
  {
   "cell_type": "code",
   "execution_count": 53,
   "id": "c37120ce-83e6-451c-91b5-f4cdf19e8747",
   "metadata": {},
   "outputs": [],
   "source": [
    "wealth_age_seg_old = cust_trans_rfm.groupby(['wealth_segment', 'Age_Group']).size().reset_index()"
   ]
  },
  {
   "cell_type": "code",
   "execution_count": 54,
   "id": "9f9b7005-82e3-44ff-bd03-7689b1f35652",
   "metadata": {},
   "outputs": [],
   "source": [
    "wealth_age_seg_old.rename(columns={0:'Number of Customers'}, inplace=True)\n"
   ]
  },
  {
   "cell_type": "code",
   "execution_count": 55,
   "id": "2460fd44-1af2-4290-b54c-dd7e41b86a6c",
   "metadata": {},
   "outputs": [
    {
     "data": {
      "image/png": "[encoded data removed]",
      "text/plain": [
       "<Figure size 1500x800 with 1 Axes>"
      ]
     },
     "metadata": {},
     "output_type": "display_data"
    }
   ],
   "source": [
    "plt.figure(figsize=(15,8))\n",
    "sns.barplot(x='Age_Group', y='Number of Customers' , hue='wealth_segment', data=wealth_age_seg_old)\n",
    "plt.xlabel('Age Group')\n",
    "plt.ylabel('Number of Customers')\n",
    "plt.title('Old Customers - Wealth Segmentation by Age Group')\n",
    "plt.show()\n"
   ]
  },
  {
   "cell_type": "markdown",
   "id": "9ebb7dfd-4f17-4127-b51a-98a8c356ff6e",
   "metadata": {},
   "source": [
    "### 5. Car owner across each State"
   ]
  },
  {
   "cell_type": "markdown",
   "id": "50119339-99fa-4586-83d9-147050c78c63",
   "metadata": {},
   "source": [
    "The customer base of the automobile bike company lies in New South Wales, Queensland and Victoria, Australia.\n",
    "In New South Wales (NSW) it seems there is a greater amount of people who donot own a car. In Victoria (VIC) the proportion is evenly split. However in Queensland (QLD) there are relatively more people who own the car."
   ]
  },
  {
   "cell_type": "code",
   "execution_count": 56,
   "id": "d2884216-f4a6-4555-be68-0aed6cbca0dc",
   "metadata": {},
   "outputs": [],
   "source": [
    "# Loading the Customer Address Dataset.\n",
    "\n",
    "cust_addr_info = pd.read_csv('CustomerAddress_Cleaned.csv')"
   ]
  },
  {
   "cell_type": "code",
   "execution_count": 57,
   "id": "b00e5d6c-114d-4db1-ad4c-5be327be0741",
   "metadata": {},
   "outputs": [],
   "source": [
    "# Merging the RFM data with Customer Address dataset.\n",
    "\n",
    "cust_trans_addr = pd.merge(cust_trans_rfm , cust_addr_info, left_on = 'customer_id' , \n",
    "                           right_on = 'customer_id', how='inner')"
   ]
  },
  {
   "cell_type": "code",
   "execution_count": 58,
   "id": "5582e51b-f3cd-4aba-9515-922f9655b2c7",
   "metadata": {},
   "outputs": [
    {
     "name": "stdout",
     "output_type": "stream",
     "text": [
      "RFM table Records count : 19354\n",
      "Address Table Records count :3999\n"
     ]
    }
   ],
   "source": [
    "print(\"RFM table Records count : {}\\nAddress Table Records count :{}\".format(cust_trans_rfm.shape[0] ,cust_addr_info.shape[0]))"
   ]
  },
  {
   "cell_type": "code",
   "execution_count": 59,
   "id": "02e9de92-6833-4460-9671-ce56a5c9d9d3",
   "metadata": {},
   "outputs": [],
   "source": [
    "state_car_owners = cust_trans_addr[['state' , 'owns_car' , 'customer_id']].drop_duplicates().groupby(['state', 'owns_car']).size().reset_index()"
   ]
  },
  {
   "cell_type": "code",
   "execution_count": 60,
   "id": "8739875d-6baf-4a86-a0d1-53a159a02407",
   "metadata": {},
   "outputs": [
    {
     "data": {
      "text/html": [
       "<div>\n",
       "<style scoped>\n",
       "    .dataframe tbody tr th:only-of-type {\n",
       "        vertical-align: middle;\n",
       "    }\n",
       "\n",
       "    .dataframe tbody tr th {\n",
       "        vertical-align: top;\n",
       "    }\n",
       "\n",
       "    .dataframe thead th {\n",
       "        text-align: right;\n",
       "    }\n",
       "</style>\n",
       "<table border=\"1\" class=\"dataframe\">\n",
       "  <thead>\n",
       "    <tr style=\"text-align: right;\">\n",
       "      <th></th>\n",
       "      <th>state</th>\n",
       "      <th>owns_car</th>\n",
       "      <th>Number of Customers</th>\n",
       "    </tr>\n",
       "  </thead>\n",
       "  <tbody>\n",
       "    <tr>\n",
       "      <th>0</th>\n",
       "      <td>NSW</td>\n",
       "      <td>No</td>\n",
       "      <td>889</td>\n",
       "    </tr>\n",
       "    <tr>\n",
       "      <th>1</th>\n",
       "      <td>NSW</td>\n",
       "      <td>Yes</td>\n",
       "      <td>935</td>\n",
       "    </tr>\n",
       "    <tr>\n",
       "      <th>2</th>\n",
       "      <td>QLD</td>\n",
       "      <td>No</td>\n",
       "      <td>365</td>\n",
       "    </tr>\n",
       "    <tr>\n",
       "      <th>3</th>\n",
       "      <td>QLD</td>\n",
       "      <td>Yes</td>\n",
       "      <td>363</td>\n",
       "    </tr>\n",
       "    <tr>\n",
       "      <th>4</th>\n",
       "      <td>VIC</td>\n",
       "      <td>No</td>\n",
       "      <td>435</td>\n",
       "    </tr>\n",
       "    <tr>\n",
       "      <th>5</th>\n",
       "      <td>VIC</td>\n",
       "      <td>Yes</td>\n",
       "      <td>425</td>\n",
       "    </tr>\n",
       "  </tbody>\n",
       "</table>\n",
       "</div>"
      ],
      "text/plain": [
       "  state owns_car  Number of Customers\n",
       "0   NSW       No                  889\n",
       "1   NSW      Yes                  935\n",
       "2   QLD       No                  365\n",
       "3   QLD      Yes                  363\n",
       "4   VIC       No                  435\n",
       "5   VIC      Yes                  425"
      ]
     },
     "execution_count": 60,
     "metadata": {},
     "output_type": "execute_result"
    }
   ],
   "source": [
    "state_car_owners.rename(columns={0:'Number of Customers'}, inplace=True)\n",
    "state_car_owners"
   ]
  },
  {
   "cell_type": "code",
   "execution_count": 61,
   "id": "f22913e4-c3ef-4fe7-83eb-0a76c96540bb",
   "metadata": {},
   "outputs": [
    {
     "data": {
      "image/png": "[encoded data removed]",
      "text/plain": [
       "<Figure size 800x700 with 1 Axes>"
      ]
     },
     "metadata": {},
     "output_type": "display_data"
    }
   ],
   "source": [
    "plt.figure(figsize=(8,7))\n",
    "sns.barplot(x='state', y='Number of Customers' , hue='owns_car', data=state_car_owners)\n",
    "plt.xlabel('States')\n",
    "plt.ylabel('Number of Customers')\n",
    "plt.title('Number of Customers who own a car')\n",
    "plt.show()"
   ]
  },
  {
   "cell_type": "markdown",
   "id": "593aae2b-bcd3-42ec-a340-4b1556cabc54",
   "metadata": {},
   "source": [
    "NSW has the largest number of people that donot own a car. It seems that a higher amount of data is collected from NSW compared to other states. In QLD the distribution between customers having a car or not having is even. In Victoria the number is split evenly. Both the numbers are significantly lower than that of NSW"
   ]
  },
  {
   "cell_type": "markdown",
   "id": "7af4e5d5-ac56-4eb8-b1f5-6bef89ad9b29",
   "metadata": {},
   "source": [
    "## RFM Analysis Scatter Plots"
   ]
  },
  {
   "cell_type": "markdown",
   "id": "222cda2f-8793-45ac-9176-a96aaca2524c",
   "metadata": {},
   "source": [
    "### 1. Recency vs Monetary"
   ]
  },
  {
   "cell_type": "markdown",
   "id": "64d1664e-8091-4fb9-b3f3-be61c3633654",
   "metadata": {},
   "source": [
    "The chart shows that customers who purchased recently generated more revenue than customers who visited long time ago. Customers from recent past (50-100) days generated a moderate revenue. Customers who visited 200 days ago generated a low revenue."
   ]
  },
  {
   "cell_type": "code",
   "execution_count": 63,
   "id": "4bc1bd6f-e11d-4af9-95e1-9751f0cc89a2",
   "metadata": {},
   "outputs": [
    {
     "data": {
      "text/plain": [
       "<Figure size 800x700 with 0 Axes>"
      ]
     },
     "metadata": {},
     "output_type": "display_data"
    },
    {
     "data": {
      "image/png": "[encoded data removed]",
      "text/plain": [
       "<Figure size 640x480 with 1 Axes>"
      ]
     },
     "metadata": {},
     "output_type": "display_data"
    }
   ],
   "source": [
    "plt.figure(figsize=(8,7))\n",
    "cust_trans_rfm.plot.scatter(x='recency' , y='monetary')\n",
    "plt.xlabel('Recency')\n",
    "plt.ylabel('Monetary ($)')\n",
    "plt.title('Recency vs Monetary')\n",
    "plt.show()"
   ]
  },
  {
   "cell_type": "markdown",
   "id": "db41f27e-1dc6-4d0c-b809-8c50faf6a811",
   "metadata": {},
   "source": [
    "### 2 Frequency vs Monetary"
   ]
  },
  {
   "cell_type": "markdown",
   "id": "41d7eeff-6f3d-47a4-89fd-848bd79d08bf",
   "metadata": {},
   "source": [
    "Customers classified as \"Platinum Custoers\" , \"Very Loyal\" and \"Becoming Loyal\" visit frequently, which correlated with increased revenue for the business."
   ]
  },
  {
   "cell_type": "code",
   "execution_count": 64,
   "id": "e1dbbb12-47a6-403e-a254-2774bac7f7b1",
   "metadata": {},
   "outputs": [
    {
     "data": {
      "text/plain": [
       "<Figure size 800x700 with 0 Axes>"
      ]
     },
     "metadata": {},
     "output_type": "display_data"
    },
    {
     "data": {
      "image/png": "[encoded data removed]",
      "text/plain": [
       "<Figure size 640x480 with 1 Axes>"
      ]
     },
     "metadata": {},
     "output_type": "display_data"
    }
   ],
   "source": [
    "plt.figure(figsize=(8,7))\n",
    "cust_trans_rfm.plot.scatter(x='frequency' , y='monetary')\n",
    "plt.xlabel('Frequency')\n",
    "plt.ylabel('Monetary ($)')\n",
    "plt.title('Frequency vs Monetary')\n",
    "plt.show()"
   ]
  },
  {
   "cell_type": "markdown",
   "id": "f7fb2fe8-1168-4481-954c-a06ccc071e6b",
   "metadata": {},
   "source": [
    "## Customer Segment Distribution"
   ]
  },
  {
   "cell_type": "markdown",
   "id": "8d2a7d40-a97f-4395-93ff-0f85cb2520cc",
   "metadata": {},
   "source": [
    "Finally we can plot the Number of Customers present under a Customer Segment."
   ]
  },
  {
   "cell_type": "code",
   "execution_count": 65,
   "id": "17a79709-1d17-4557-830f-6e7b4d655e25",
   "metadata": {},
   "outputs": [],
   "source": [
    "# Calculating the number of unique customers under a customer title.\n",
    "\n",
    "cust_per_title = cust_trans_rfm[['detail_cust_title', 'customer_id','rank']].drop_duplicates().groupby(\n",
    "    ['detail_cust_title','rank']).size().reset_index().sort_values('rank')"
   ]
  },
  {
   "cell_type": "code",
   "execution_count": 66,
   "id": "35863f15-9b03-4a66-a49e-0158dbbb064e",
   "metadata": {},
   "outputs": [
    {
     "data": {
      "text/html": [
       "<div>\n",
       "<style scoped>\n",
       "    .dataframe tbody tr th:only-of-type {\n",
       "        vertical-align: middle;\n",
       "    }\n",
       "\n",
       "    .dataframe tbody tr th {\n",
       "        vertical-align: top;\n",
       "    }\n",
       "\n",
       "    .dataframe thead th {\n",
       "        text-align: right;\n",
       "    }\n",
       "</style>\n",
       "<table border=\"1\" class=\"dataframe\">\n",
       "  <thead>\n",
       "    <tr style=\"text-align: right;\">\n",
       "      <th></th>\n",
       "      <th>detail_cust_title</th>\n",
       "      <th>rank</th>\n",
       "      <th>Number of Customers</th>\n",
       "    </tr>\n",
       "  </thead>\n",
       "  <tbody>\n",
       "    <tr>\n",
       "      <th>7</th>\n",
       "      <td>Platinum Customer</td>\n",
       "      <td>1</td>\n",
       "      <td>164</td>\n",
       "    </tr>\n",
       "    <tr>\n",
       "      <th>10</th>\n",
       "      <td>Very Loyal</td>\n",
       "      <td>2</td>\n",
       "      <td>181</td>\n",
       "    </tr>\n",
       "    <tr>\n",
       "      <th>1</th>\n",
       "      <td>Becoming Loyal</td>\n",
       "      <td>3</td>\n",
       "      <td>344</td>\n",
       "    </tr>\n",
       "    <tr>\n",
       "      <th>9</th>\n",
       "      <td>Recent Customer</td>\n",
       "      <td>4</td>\n",
       "      <td>357</td>\n",
       "    </tr>\n",
       "    <tr>\n",
       "      <th>8</th>\n",
       "      <td>Potential Customer</td>\n",
       "      <td>5</td>\n",
       "      <td>340</td>\n",
       "    </tr>\n",
       "    <tr>\n",
       "      <th>4</th>\n",
       "      <td>Late Bloomer</td>\n",
       "      <td>6</td>\n",
       "      <td>332</td>\n",
       "    </tr>\n",
       "    <tr>\n",
       "      <th>5</th>\n",
       "      <td>Loosing Customer</td>\n",
       "      <td>7</td>\n",
       "      <td>333</td>\n",
       "    </tr>\n",
       "    <tr>\n",
       "      <th>3</th>\n",
       "      <td>High Risk Customer</td>\n",
       "      <td>8</td>\n",
       "      <td>371</td>\n",
       "    </tr>\n",
       "    <tr>\n",
       "      <th>0</th>\n",
       "      <td>Almost Lost Customer</td>\n",
       "      <td>9</td>\n",
       "      <td>315</td>\n",
       "    </tr>\n",
       "    <tr>\n",
       "      <th>2</th>\n",
       "      <td>Evasive Customer</td>\n",
       "      <td>10</td>\n",
       "      <td>388</td>\n",
       "    </tr>\n",
       "    <tr>\n",
       "      <th>6</th>\n",
       "      <td>Lost Customer</td>\n",
       "      <td>11</td>\n",
       "      <td>291</td>\n",
       "    </tr>\n",
       "  </tbody>\n",
       "</table>\n",
       "</div>"
      ],
      "text/plain": [
       "       detail_cust_title  rank  Number of Customers\n",
       "7      Platinum Customer     1                  164\n",
       "10            Very Loyal     2                  181\n",
       "1         Becoming Loyal     3                  344\n",
       "9        Recent Customer     4                  357\n",
       "8     Potential Customer     5                  340\n",
       "4           Late Bloomer     6                  332\n",
       "5       Loosing Customer     7                  333\n",
       "3     High Risk Customer     8                  371\n",
       "0   Almost Lost Customer     9                  315\n",
       "2       Evasive Customer    10                  388\n",
       "6          Lost Customer    11                  291"
      ]
     },
     "execution_count": 66,
     "metadata": {},
     "output_type": "execute_result"
    }
   ],
   "source": [
    "cust_per_title.rename(columns={0:'Number of Customers'}, inplace=True)\n",
    "cust_per_title\n"
   ]
  },
  {
   "cell_type": "code",
   "execution_count": 67,
   "id": "8e35193c-6b1a-4673-a6c6-26a90e240af3",
   "metadata": {},
   "outputs": [
    {
     "data": {
      "image/png": "[encoded data removed]",
      "text/plain": [
       "<Figure size 1500x800 with 1 Axes>"
      ]
     },
     "metadata": {},
     "output_type": "display_data"
    }
   ],
   "source": [
    "# Plotting the Number of Customers\n",
    "\n",
    "plt.figure(figsize=(15,8))\n",
    "sns.barplot(y='detail_cust_title' , x='Number of Customers', data=cust_per_title)\n",
    "plt.xlabel('Number of Customers')\n",
    "plt.ylabel('Customer Segment')\n",
    "plt.title('Number of Customers by Customer Segment')\n",
    "plt.show()"
   ]
  }
 ],
 "metadata": {
  "kernelspec": {
   "display_name": "Python 3 (ipykernel)",
   "language": "python",
   "name": "python3"
  },
  "language_info": {
   "codemirror_mode": {
    "name": "ipython",
    "version": 3
   },
   "file_extension": ".py",
   "mimetype": "text/x-python",
   "name": "python",
   "nbconvert_exporter": "python",
   "pygments_lexer": "ipython3",
   "version": "3.11.7"
  }
 },
 "nbformat": 4,
 "nbformat_minor": 5
}
